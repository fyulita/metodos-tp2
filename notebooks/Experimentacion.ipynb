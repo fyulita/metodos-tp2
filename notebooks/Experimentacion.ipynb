{
 "cells": [
  {
   "cell_type": "markdown",
   "metadata": {},
   "source": [
    "# Reconocimiento de dígitos con KNN\n",
    "\n"
   ]
  },
  {
   "cell_type": "markdown",
   "metadata": {},
   "source": [
    "Definir los path al ejecutable de python 3.6 y sus librerías,\n",
    "de acuerdo al virtual env que estén corriendo."
   ]
  },
  {
   "cell_type": "code",
   "execution_count": null,
   "metadata": {},
   "outputs": [],
   "source": [
    "!cd .. && mkdir build\n",
    "!cd ../build/ && rm -rf *\n",
    "!cd ../build && cmake \\\n",
    "  -DPYTHON_EXECUTABLE=\"$(which python)\" \\\n",
    "  -DCMAKE_BUILD_TYPE=Release ..\n",
    "!cd ../build && make install"
   ]
  },
  {
   "cell_type": "code",
   "execution_count": null,
   "metadata": {},
   "outputs": [],
   "source": [
    "# Verifico la correcta instalación. Si no falla el import está OK\n",
    "!pwd\n",
    "!python --version\n",
    "import metnum"
   ]
  },
  {
   "cell_type": "markdown",
   "metadata": {},
   "source": [
    "## Explorando los datos"
   ]
  },
  {
   "cell_type": "code",
   "execution_count": null,
   "metadata": {},
   "outputs": [],
   "source": [
    "%load_ext autoreload\n",
    "%autoreload 2\n",
    "import pandas as pd\n",
    "\n",
    "df_train = pd.read_csv(\"../data/train.csv\")"
   ]
  },
  {
   "cell_type": "markdown",
   "metadata": {},
   "source": [
    "Es un csv, con columnas por cada pixel"
   ]
  },
  {
   "cell_type": "code",
   "execution_count": null,
   "metadata": {},
   "outputs": [],
   "source": [
    "df_train.shape"
   ]
  },
  {
   "cell_type": "markdown",
   "metadata": {},
   "source": [
    "### Reducir el dataset\n",
    "\n",
    "Ya que el dataset es grande, me quedo con una porción de éste\n",
    "\n",
    "**<font color=red>ESTO ES SOLO PARA HACER PRUEBAS. CUANDO REPORTEN LOS RESULTADOS, USAR DATASET COMPLETO</font>**"
   ]
  },
  {
   "cell_type": "code",
   "execution_count": null,
   "metadata": {},
   "outputs": [],
   "source": [
    "# data_train = df_train\n",
    "data_train = df_train[:10000]\n",
    "# data_test = df_train[5000:7000]"
   ]
  },
  {
   "cell_type": "markdown",
   "metadata": {},
   "source": [
    "En el primer caracter está el dígito a reconocer. Llamamos a esto `y_train`"
   ]
  },
  {
   "cell_type": "code",
   "execution_count": null,
   "metadata": {},
   "outputs": [],
   "source": [
    "# Uso values para mandar todo a arrays de numpy\n",
    "X = data_train[data_train.columns[1:]].values\n",
    "y = data_train[\"label\"].values.reshape(-1, 1)\n",
    "\n",
    "X.shape, y.shape"
   ]
  },
  {
   "cell_type": "markdown",
   "metadata": {},
   "source": [
    "Convierto el resto a matrices de 28 x 28"
   ]
  },
  {
   "cell_type": "markdown",
   "metadata": {},
   "source": [
    "A ver cómo se ven..."
   ]
  },
  {
   "cell_type": "code",
   "execution_count": null,
   "metadata": {},
   "outputs": [],
   "source": [
    "import matplotlib.pyplot as plt\n",
    "\n",
    "num = 8\n",
    "\n",
    "print(\"Supuestamente es un {}\".format(int(y[num])))\n",
    "\n",
    "img = X[num].reshape(28, 28)\n",
    "plt.imshow(img, cmap=\"Greys\")\n"
   ]
  },
  {
   "cell_type": "markdown",
   "metadata": {},
   "source": [
    "### Balance de clases\n",
    "\n",
    "¿Tenemos la misma cantidad de cada número?"
   ]
  },
  {
   "cell_type": "code",
   "execution_count": null,
   "metadata": {},
   "outputs": [],
   "source": [
    "data_train[\"label\"].value_counts(normalize=True)"
   ]
  },
  {
   "cell_type": "markdown",
   "metadata": {},
   "source": [
    "No: tenemos más 1 que 5, pero tampoco está tan desbalanceado"
   ]
  },
  {
   "cell_type": "markdown",
   "metadata": {},
   "source": [
    "### Conjunto de development"
   ]
  },
  {
   "cell_type": "code",
   "execution_count": null,
   "metadata": {
    "scrolled": true
   },
   "outputs": [],
   "source": [
    "#DATA SPLIT: elijo que porcentaje del total es para training y cual es para Testeo.\n",
    "#limit = int(0.8 * X.shape[0]) \n",
    "\n",
    "#X_train, y_train = X[:limit], y[:limit]\n",
    "#X_test, y_test = X[limit:], y[limit:]\n",
    "\n",
    "#assert len(X_train) == len(y_train)\n",
    "#assert len(X_test) == len(y_test)\n",
    "\n",
    "#print(f\"Ahora tengo {len(X_train)} instancias de entrenamiento y {len(X_test)} de testeo\")\n",
    "#print(\"Ahora tengo {0} instancias de entrenamiento y {0} de testeo\".format(len(X_train)))\n"
   ]
  },
  {
   "cell_type": "code",
   "execution_count": null,
   "metadata": {},
   "outputs": [],
   "source": [
    "def list_mean(list):\n",
    "    return sum(list)/ len(list)"
   ]
  },
  {
   "cell_type": "markdown",
   "metadata": {},
   "source": [
    "#  K-Fold Validation\n"
   ]
  },
  {
   "cell_type": "code",
   "execution_count": null,
   "metadata": {},
   "outputs": [],
   "source": [
    "#dividimos los datos de entrenamiento en K subsets. Utilizamos K-1 de esos subsets para entrenar a la maquina y\n",
    "# el que queda se usa como validacion\n",
    "\n",
    "#Se hacen K distintos rounds de entrenamiento variando el subset que se utiliza como validacion. Luego se testea\n",
    "# cada uno de los 'rounds' y se calcula el Accuracy promedio entre todos ellos.\n",
    "\n",
    "#no confundir K de K-fold con k de knn!!\n",
    "\n",
    "from sklearn.model_selection import KFold\n",
    "\n",
    "K = 5\n",
    "kfold = KFold(n_splits = K)   #defino el split en K fold\n",
    "kfold.get_n_splits(X)\n",
    "\n",
    "print(kfold)\n"
   ]
  },
  {
   "cell_type": "markdown",
   "metadata": {},
   "source": [
    "### KNN SIN PCA "
   ]
  },
  {
   "cell_type": "code",
   "execution_count": null,
   "metadata": {},
   "outputs": [],
   "source": [
    "#Entreno a la maquina con K-Fold y guardo los resultados para cada iteracion\n",
    "\n",
    "from sklearn.metrics import accuracy_score\n",
    "from time import time\n",
    "#lista de los accuracies de cada round de K-Fold\n",
    "allAcc= []\n",
    "\n",
    "#neighbors\n",
    "#ACA se puede jugar con la cantidad de Neighbors (k) que utiliza el algoritmo knn\n",
    "k = 10\n",
    "i=1\n",
    "\n",
    "\n",
    "\n",
    "for train_index, test_index in kfold.split(X):\n",
    "    #print(f\"Train: {train_index} Val: {val_index}\")\n",
    "    X_train, X_test = X[train_index], X[test_index]\n",
    "    y_train, y_test = y[train_index], y[test_index]\n",
    "    \n",
    "    #inicializamos un nuevo clasificador cada iteracion\n",
    "    knn = metnum.KNNClassifier(k)\n",
    "    \n",
    "    fitStart = time()\n",
    "    #entreno a la maquina con los K-1 subsets asignados\n",
    "    knn.fit(X_train, y_train)\n",
    "    fitEnd = time()\n",
    "    fitTime = fitEnd - fitStart\n",
    "    \n",
    "    #ahora hago la prediccion con los X_val que se usan para validar la iteracion de entrenamiento actual\n",
    "    predStart = time()\n",
    "    y_pred = knn.predict(X_test)\n",
    "    predEnd = time()\n",
    "    predTime = predEnd - predStart\n",
    "    #comparo los resultados de los X_val con sos correspondientes y_val\n",
    "    acc = accuracy_score(y_test, y_pred)\n",
    "    allAcc.append(acc)\n",
    "    \n",
    "    \n",
    "    print(\"Round {}:\".format(i))\n",
    "    print(\"Accuracy: {}\".format(acc))\n",
    "    print(\"Fit time: {}\".format(fitTime))\n",
    "    print(\"Prediction time: {}\".format(predTime))\n",
    "    \n",
    "    print(\"\\n\")\n",
    "    i+= 1\n",
    "\n",
    "meanAcc = list_mean(allAcc)\n",
    "print(\"The mean accuracy of {}-Fold Cross-Validation with {} neighbors is: {}\".format(K,k,meanAcc))"
   ]
  },
  {
   "cell_type": "markdown",
   "metadata": {},
   "source": [
    "### Testeo de KNN sin PCA"
   ]
  },
  {
   "cell_type": "code",
   "execution_count": null,
   "metadata": {},
   "outputs": [],
   "source": [
    "#Una vez entrenado el knn, se puede testear con los datos que nunca vio para ver si logro desarrollar \n",
    "# una prediccion generalizada (que no haya overfit)\n",
    "\n",
    "#Tiempo de ejecucion\n",
    "#%%time\n",
    "#from sklearn.metrics import accuracy_score\n",
    "\n",
    "#utilizo los X_test que la maquina nunca vio para testear\n",
    "#y_pred = knn.predict(X_test)\n",
    "\n",
    "#Accuracy\n",
    "#test_acc = accuracy_score(y_test, y_pred)\n",
    "#print(\"Accuracy: {}\".format(test_acc))\n",
    "\n",
    "#AGREGAR OTRO PARAMETRO MAS DE ANALISIS\n"
   ]
  },
  {
   "cell_type": "markdown",
   "metadata": {},
   "source": [
    "### KNN CON PCA"
   ]
  },
  {
   "cell_type": "code",
   "execution_count": null,
   "metadata": {},
   "outputs": [],
   "source": [
    "#me falta hacer lo mismo de arriba pero llamando a PCA "
   ]
  },
  {
   "cell_type": "code",
   "execution_count": null,
   "metadata": {},
   "outputs": [],
   "source": [
    "#Entreno a la maquina con K-Fold y guardo los resultados para cada iteracion\n",
    "\n",
    "from sklearn.metrics import accuracy_score\n",
    "\n",
    "#lista de los accuracies de cada round de K-Fold\n",
    "allAcc= []\n",
    "\n",
    "\n",
    "\n",
    "#neighbors\n",
    "#ACA se puede jugar con la cantidad de Neighbors (k) que utiliza el algoritmo knn\n",
    "k = 10\n",
    "alpha = 30\n",
    "i=1\n",
    "\n",
    "\n",
    "\n",
    "for train_index, test_index in kfold.split(X):\n",
    "    X_train, X_test = X[train_index], X[test_index]\n",
    "    y_train, y_test = y[train_index], y[test_index]\n",
    "    \n",
    "    #el sistema que vamos a entrenar\n",
    "    knn = metnum.KNNClassifier(k)\n",
    "    pca = metnum.PCA(alpha)\n",
    "    pca.fit(X_train)\n",
    "    \n",
    "    X_train_transformed = pca.transform(X_train)\n",
    "    \n",
    "    #entreno a la maquina con los K-1 subsets asignados\n",
    "    knn.fit(X_train_transformed, y_train)\n",
    "       \n",
    "    X_test_transformed = pca.transform(X_test)\n",
    "\n",
    "    y_pred = knn.predict(X_test_transformed)\n",
    "    \n",
    "    #comparo los resultados de los X_val con sos correspondientes y_val\n",
    "    acc = accuracy_score(y_test, y_pred)\n",
    "    allAcc.append(acc)\n",
    "    \n",
    "    print(\"Round {}:\".format(i))\n",
    "    print(\"Accuracy: {}\".format(acc))\n",
    "    print(\"\\n\")\n",
    "    i+= 1\n",
    "\n",
    "meanAcc = list_mean(allAcc)\n",
    "print(\"The mean accuracy of {}-Fold Cross-Validation with PCA alpha={} with {} neighbors is: {}\".format(K,alpha,k,meanAcc))"
   ]
  },
  {
   "cell_type": "code",
   "execution_count": null,
   "metadata": {},
   "outputs": [],
   "source": [
    "#NO CORRER\n",
    "\n",
    "\n",
    "#X_transformed = pca.transform(X_test)\n",
    "#y_pred = knn.predict(X_transformed)\n",
    "\n",
    "#test_acc = accuracy_score(y_test, y_pred)\n",
    "#print(\"Accuracy KNN with PCA: {}\".format(test_acc))"
   ]
  },
  {
   "cell_type": "markdown",
   "metadata": {},
   "source": [
    "### Testeo SIN PCA\n",
    "\n",
    "#### (todo esto se puede ignorar)"
   ]
  },
  {
   "cell_type": "code",
   "execution_count": null,
   "metadata": {},
   "outputs": [],
   "source": [
    "from sklearn.neighbors import KNeighborsClassifier\n",
    "\n",
    "# Acá pueden cambiar el clasificador nuestro por el de sklearn!\n",
    "\n",
    "\n",
    "#ACA se puede jugar con la cantidad de Neighbors (k) que utiliza el algoritmo knn\n",
    "clf = metnum.KNNClassifier(50)\n",
    "#clf = KNeighborsClassifier(100)\n",
    "\n",
    "clf.fit(X_train, y_train)\n"
   ]
  },
  {
   "cell_type": "code",
   "execution_count": null,
   "metadata": {},
   "outputs": [],
   "source": [
    "#Tiempo de ejecucion\n",
    "%%time\n",
    "from sklearn.metrics import accuracy_score\n",
    "y_pred = clf.predict(X_test)\n",
    "\n",
    "\n",
    "#Accuracy\n",
    "acc = accuracy_score(y_test, y_pred)\n",
    "print(\"Accuracy: {}\".format(acc))\n",
    "\n",
    "#AGREGAR OTRO PARAMETRO MAS DE ANALISIS\n",
    "\n"
   ]
  },
  {
   "cell_type": "code",
   "execution_count": null,
   "metadata": {},
   "outputs": [],
   "source": []
  }
 ],
 "metadata": {
  "kernelspec": {
   "display_name": "Python 2",
   "language": "python",
   "name": "python2"
  },
  "language_info": {
   "codemirror_mode": {
    "name": "ipython",
    "version": 2
   },
   "file_extension": ".py",
   "mimetype": "text/x-python",
   "name": "python",
   "nbconvert_exporter": "python",
   "pygments_lexer": "ipython2",
   "version": "2.7.17"
  }
 },
 "nbformat": 4,
 "nbformat_minor": 4
}
