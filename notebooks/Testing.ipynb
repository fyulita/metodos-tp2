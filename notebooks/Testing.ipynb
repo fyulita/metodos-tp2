{
 "cells": [
  {
   "cell_type": "markdown",
   "metadata": {},
   "source": [
    "# Compilamos el código de C++"
   ]
  },
  {
   "cell_type": "code",
   "execution_count": 1,
   "metadata": {},
   "outputs": [
    {
     "name": "stdout",
     "output_type": "stream",
     "text": [
      "mkdir: cannot create directory ‘build’: File exists\n",
      "-- The C compiler identification is GNU 10.1.0\n",
      "-- The CXX compiler identification is GNU 10.1.0\n",
      "-- Check for working C compiler: /usr/bin/cc\n",
      "-- Check for working C compiler: /usr/bin/cc - works\n",
      "-- Detecting C compiler ABI info\n",
      "-- Detecting C compiler ABI info - done\n",
      "-- Detecting C compile features\n",
      "-- Detecting C compile features - done\n",
      "-- Check for working CXX compiler: /usr/bin/c++\n",
      "-- Check for working CXX compiler: /usr/bin/c++ - works\n",
      "-- Detecting CXX compiler ABI info\n",
      "-- Detecting CXX compiler ABI info - done\n",
      "-- Detecting CXX compile features\n",
      "-- Detecting CXX compile features - done\n",
      "Release mode\n",
      "-- Found PythonInterp: /home/fyulita/.virtualenvs/scienv/bin/python (found version \"3.8.3\") \n",
      "-- Found PythonLibs: /usr/lib/libpython3.8.so\n",
      "-- pybind11 v2.2.4\n",
      "-- Performing Test HAS_FLTO\n",
      "-- Performing Test HAS_FLTO - Success\n",
      "-- LTO enabled\n",
      "CMAKE_INSTALL_PREFIX=/home/fyulita/Documents/UBA/2020-1C/Metodos Numericos/Material/Laboratorio/tp02\n",
      "-- Configuring done\n",
      "-- Generating done\n",
      "-- Build files have been written to: /home/fyulita/Documents/UBA/2020-1C/Metodos Numericos/Material/Laboratorio/tp02/build\n",
      "\u001b[35m\u001b[1mScanning dependencies of target tp2\u001b[0m\n",
      "[ 10%] \u001b[32mBuilding CXX object CMakeFiles/tp2.dir/src/main.cpp.o\u001b[0m\n",
      "[ 20%] \u001b[32mBuilding CXX object CMakeFiles/tp2.dir/src/knn.cpp.o\u001b[0m\n",
      "[ 30%] \u001b[32mBuilding CXX object CMakeFiles/tp2.dir/src/pca.cpp.o\u001b[0m\n",
      "[ 40%] \u001b[32mBuilding CXX object CMakeFiles/tp2.dir/src/eigen.cpp.o\u001b[0m\n",
      "[ 50%] \u001b[32m\u001b[1mLinking CXX executable tp2\u001b[0m\n",
      "[ 50%] Built target tp2\n",
      "\u001b[35m\u001b[1mScanning dependencies of target metnum\u001b[0m\n",
      "[ 60%] \u001b[32mBuilding CXX object CMakeFiles/metnum.dir/src/metnum.cpp.o\u001b[0m\n",
      "[ 70%] \u001b[32mBuilding CXX object CMakeFiles/metnum.dir/src/knn.cpp.o\u001b[0m\n",
      "[ 80%] \u001b[32mBuilding CXX object CMakeFiles/metnum.dir/src/pca.cpp.o\u001b[0m\n",
      "[ 90%] \u001b[32mBuilding CXX object CMakeFiles/metnum.dir/src/eigen.cpp.o\u001b[0m\n",
      "[100%] \u001b[32m\u001b[1mLinking CXX shared module metnum.cpython-38-x86_64-linux-gnu.so\u001b[0m\n",
      "[100%] Built target metnum\n",
      "\u001b[36mInstall the project...\u001b[0m\n",
      "-- Install configuration: \"Release\"\n",
      "-- Installing: /home/fyulita/Documents/UBA/2020-1C/Metodos Numericos/Material/Laboratorio/tp02/notebooks/metnum.cpython-38-x86_64-linux-gnu.so\n"
     ]
    }
   ],
   "source": [
    "!cd .. && mkdir build\n",
    "!cd ../build/ && rm -rf *\n",
    "!cd ../build && cmake \\\n",
    "  -DPYTHON_EXECUTABLE=\"$(which python)\" \\\n",
    "  -DCMAKE_BUILD_TYPE=Release ..\n",
    "!cd ../build && make install"
   ]
  },
  {
   "cell_type": "code",
   "execution_count": 2,
   "metadata": {},
   "outputs": [
    {
     "name": "stdout",
     "output_type": "stream",
     "text": [
      "/home/fyulita/Documents/UBA/2020-1C/Metodos Numericos/Material/Laboratorio/tp02/notebooks\n",
      "Python 3.8.3\n"
     ]
    }
   ],
   "source": [
    "!pwd\n",
    "!python --version\n",
    "import metnum"
   ]
  },
  {
   "cell_type": "markdown",
   "metadata": {},
   "source": [
    "# Testeamos el cálculo de autovalores y autovectores"
   ]
  },
  {
   "cell_type": "code",
   "execution_count": 3,
   "metadata": {},
   "outputs": [],
   "source": [
    "import numpy as np"
   ]
  },
  {
   "cell_type": "code",
   "execution_count": 4,
   "metadata": {},
   "outputs": [],
   "source": [
    "A = np.array([\n",
    "    [2, 0],\n",
    "    [0, 1]\n",
    "])\n",
    "lambdas_exp = np.linalg.eig(A)[0]\n",
    "\n",
    "lambdas, V = metnum.get_first_eigenvalues(A, 2)\n",
    "\n",
    "assert np.allclose(lambdas_exp, lambdas)\n",
    "assert np.allclose(V @ np.diag(lambdas) @ V.T, A)"
   ]
  },
  {
   "cell_type": "code",
   "execution_count": 5,
   "metadata": {},
   "outputs": [],
   "source": [
    "B = np.array([\n",
    "    [2, 1],\n",
    "    [1, 1]\n",
    "])\n",
    "lambdas_exp = np.linalg.eig(B)[0]\n",
    "\n",
    "lambdas, V = metnum.get_first_eigenvalues(B, 2)\n",
    "\n",
    "assert np.allclose(lambdas_exp, lambdas)\n",
    "assert np.allclose(V @ np.diag(lambdas) @ V.T, B)"
   ]
  },
  {
   "cell_type": "code",
   "execution_count": 6,
   "metadata": {},
   "outputs": [
    {
     "name": "stdout",
     "output_type": "stream",
     "text": [
      "(25.870364673564815, 26.073336080726197)\n",
      "(26.073336080726197, 25.870364673564797)\n",
      "(21.809331149904615, 22.00907701424178)\n",
      "(22.009077014241768, 21.809331149904644)\n",
      "(16.895651275780526, 16.923991873209083)\n",
      "(16.92399187351525, 16.895651276087285)\n"
     ]
    },
    {
     "ename": "AssertionError",
     "evalue": "",
     "output_type": "error",
     "traceback": [
      "\u001b[0;31m---------------------------------------------------------------------------\u001b[0m",
      "\u001b[0;31mAssertionError\u001b[0m                            Traceback (most recent call last)",
      "\u001b[0;32m<ipython-input-6-c3affbe341ea>\u001b[0m in \u001b[0;36m<module>\u001b[0;34m\u001b[0m\n\u001b[1;32m      9\u001b[0m         \u001b[0mprint\u001b[0m\u001b[0;34m(\u001b[0m\u001b[0;34m(\u001b[0m\u001b[0mlambdas_exp\u001b[0m\u001b[0;34m[\u001b[0m\u001b[0mi\u001b[0m\u001b[0;34m]\u001b[0m\u001b[0;34m,\u001b[0m \u001b[0mlambdas\u001b[0m\u001b[0;34m[\u001b[0m\u001b[0mi\u001b[0m\u001b[0;34m]\u001b[0m\u001b[0;34m)\u001b[0m\u001b[0;34m)\u001b[0m\u001b[0;34m\u001b[0m\u001b[0;34m\u001b[0m\u001b[0m\n\u001b[1;32m     10\u001b[0m \u001b[0;34m\u001b[0m\u001b[0m\n\u001b[0;32m---> 11\u001b[0;31m \u001b[0;32massert\u001b[0m \u001b[0mnp\u001b[0m\u001b[0;34m.\u001b[0m\u001b[0mallclose\u001b[0m\u001b[0;34m(\u001b[0m\u001b[0mlambdas_exp\u001b[0m\u001b[0;34m[\u001b[0m\u001b[0;34m:\u001b[0m\u001b[0;36m30\u001b[0m\u001b[0;34m]\u001b[0m\u001b[0;34m,\u001b[0m \u001b[0mlambdas\u001b[0m\u001b[0;34m)\u001b[0m\u001b[0;34m\u001b[0m\u001b[0;34m\u001b[0m\u001b[0m\n\u001b[0m",
      "\u001b[0;31mAssertionError\u001b[0m: "
     ]
    }
   ],
   "source": [
    "C = np.random.rand(100, 100) # Creo una matriz al azar de 100x100 con coeficientes entre 0 y 100.\n",
    "C = C @ C.T # La multiplico por sí misma transpuesta para que sea simétrica.\n",
    "lambdas_exp = np.linalg.eig(C)[0]\n",
    "\n",
    "lambdas, V = metnum.get_first_eigenvalues(C, 30) # Veamos los primeros valores, ya que esto es lo que vamos a hacer en PCA.\n",
    "\n",
    "for i in range(len(lambdas)):\n",
    "    if not np.isclose(lambdas_exp[i], lambdas[i]):\n",
    "        print((lambdas_exp[i], lambdas[i]))\n",
    "\n",
    "assert np.allclose(lambdas_exp[:30], lambdas)"
   ]
  },
  {
   "cell_type": "markdown",
   "metadata": {},
   "source": [
    "#### Corrimos esta última celda varias veces y casi siempre tiró un error, pero viendo los autovalores que difieren uno se da cuenta de que no difieren por tanto. Si incrementamos los autovalores calculados de 30 a 100 entonces vemos que los últimos autovalores si difieren significativamente. Veamos de dónde provienen estos errores."
   ]
  },
  {
   "cell_type": "markdown",
   "metadata": {},
   "source": [
    "#### Primero veamos de cambiar la cantidad máxima de iteraciones. (Las celdas tardan un ratito en ejecutarse)"
   ]
  },
  {
   "cell_type": "code",
   "execution_count": 7,
   "metadata": {},
   "outputs": [],
   "source": [
    "C = np.random.rand(100, 100) # Creo una matriz al azar de 100x100 con coeficientes entre 0 y 100.\n",
    "C = C @ C.T # La multiplico por sí misma transpuesta para que sea simétrica.\n",
    "lambdas_exp = np.linalg.eig(C)[0]"
   ]
  },
  {
   "cell_type": "code",
   "execution_count": 8,
   "metadata": {},
   "outputs": [],
   "source": [
    "iters = np.linspace(5000, 1000000, 1000)\n",
    "\n",
    "maxErrors = []\n",
    "numErrors = []\n",
    "for it in iters:\n",
    "    lambdas, _ = metnum.get_first_eigenvalues(C, 30, num_iter=int(it))\n",
    "    \n",
    "    count = 0\n",
    "    for i in range(len(lambdas)):\n",
    "        if not np.isclose(lambdas_exp[i], lambdas[i]):\n",
    "            count += 1\n",
    "    \n",
    "    maxErrors.append(np.max(np.abs(lambdas - lambdas_exp[:30])))\n",
    "    numErrors.append(count)\n",
    "maxErrors = np.asarray(maxErrors)\n",
    "numErrors = np.asarray(numErrors)"
   ]
  },
  {
   "cell_type": "code",
   "execution_count": 9,
   "metadata": {},
   "outputs": [
    {
     "data": {
      "image/png": "[encoded data removed]",
      "text/plain": [
       "<Figure size 432x288 with 1 Axes>"
      ]
     },
     "metadata": {
      "needs_background": "light"
     },
     "output_type": "display_data"
    },
    {
     "data": {
      "image/png": "[encoded data removed]",
      "text/plain": [
       "<Figure size 432x288 with 1 Axes>"
      ]
     },
     "metadata": {
      "needs_background": "light"
     },
     "output_type": "display_data"
    }
   ],
   "source": [
    "import matplotlib.pyplot as plt\n",
    "\n",
    "plt.figure('maxErrors-Iter')\n",
    "plt.plot(iters, maxErrors)\n",
    "plt.xlabel('Número de iteraciones')\n",
    "plt.ylabel('Mayor error en módulo.')\n",
    "plt.grid()\n",
    "plt.show()\n",
    "\n",
    "plt.figure('numErrors-Iter')\n",
    "plt.plot(iters, numErrors)\n",
    "plt.xlabel('Número de iteraciones')\n",
    "plt.ylabel('Cantidad de errores')\n",
    "plt.grid()\n",
    "plt.show()"
   ]
  },
  {
   "cell_type": "markdown",
   "metadata": {},
   "source": [
    "#### Ahora veamos de cambiar el error mínimo permitido."
   ]
  },
  {
   "cell_type": "code",
   "execution_count": 10,
   "metadata": {},
   "outputs": [],
   "source": [
    "errors = np.linspace(1e-15, 1e-17, 1000)\n",
    "\n",
    "maxErrors = []\n",
    "numErrors = []\n",
    "for err in errors:\n",
    "    lambdas, _ = metnum.get_first_eigenvalues(C, 30, epsilon=err)\n",
    "    \n",
    "    count = 0\n",
    "    for i in range(len(lambdas)):\n",
    "        if not np.isclose(lambdas_exp[i], lambdas[i]):\n",
    "            count += 1\n",
    "    \n",
    "    maxErrors.append(np.max(np.abs(lambdas - lambdas_exp[:30])))\n",
    "    numErrors.append(count)\n",
    "maxErrors = np.asarray(maxErrors)\n",
    "numErrors = np.asarray(numErrors)"
   ]
  },
  {
   "cell_type": "code",
   "execution_count": 11,
   "metadata": {},
   "outputs": [
    {
     "data": {
      "image/png": "[encoded data removed]",
      "text/plain": [
       "<Figure size 432x288 with 1 Axes>"
      ]
     },
     "metadata": {
      "needs_background": "light"
     },
     "output_type": "display_data"
    },
    {
     "data": {
      "image/png": "[encoded data removed]",
      "text/plain": [
       "<Figure size 432x288 with 1 Axes>"
      ]
     },
     "metadata": {
      "needs_background": "light"
     },
     "output_type": "display_data"
    }
   ],
   "source": [
    "plt.figure('maxErrors-Err')\n",
    "plt.plot(iters, maxErrors)\n",
    "plt.xlabel('Error mínimo')\n",
    "plt.ylabel('Mayor error en módulo.')\n",
    "plt.grid()\n",
    "plt.show()\n",
    "\n",
    "plt.figure('numErrors-Err')\n",
    "plt.plot(iters, numErrors)\n",
    "plt.xlabel('Error mínimo')\n",
    "plt.ylabel('Cantidad de errores')\n",
    "plt.grid()\n",
    "plt.show()"
   ]
  },
  {
   "cell_type": "markdown",
   "metadata": {},
   "source": [
    "#### Como los gráficos son todos práctimente constantes esto refleja que el error proviene de la implementación o del algortimo. Ya que confiamos en la correctitud de la implementación y debido a que cada tanto para algunas matrices no hay errores, atribuimos los errores al algoritmo."
   ]
  },
  {
   "cell_type": "markdown",
   "metadata": {},
   "source": [
    "# Testeamos PCA"
   ]
  },
  {
   "cell_type": "markdown",
   "metadata": {},
   "source": [
    "## Cálculo de Covarianza\n",
    "\n",
    "*Para estos tests hace falta incluir la función \"covariance\" en la parte pública de PCA y agregarla a metnum.cpp.*"
   ]
  },
  {
   "cell_type": "code",
   "execution_count": 12,
   "metadata": {},
   "outputs": [],
   "source": [
    "import numpy as np\n",
    "\n",
    "alpha = 30"
   ]
  },
  {
   "cell_type": "code",
   "execution_count": 13,
   "metadata": {},
   "outputs": [],
   "source": [
    "pca_A = metnum.PCA(alpha)\n",
    "A = np.array([\n",
    "    [64, 580, 29],\n",
    "    [66, 570, 33],\n",
    "    [68, 590, 37],\n",
    "    [69, 660, 46],\n",
    "    [73, 600, 55]\n",
    "])\n",
    "covariance_exp = np.cov(A.T)\n",
    "\n",
    "covariance = pca_A.covariance(A)\n",
    "\n",
    "assert np.allclose(covariance_exp, covariance)"
   ]
  },
  {
   "cell_type": "code",
   "execution_count": 14,
   "metadata": {},
   "outputs": [],
   "source": [
    "pca_B = metnum.PCA(alpha)\n",
    "B = np.array([\n",
    "    [90, 60, 90],\n",
    "    [90, 90, 30],\n",
    "    [60, 60, 60],\n",
    "    [60, 60, 90],\n",
    "    [30, 30, 30]\n",
    "])\n",
    "covariance_exp = covariance_exp = np.cov(B.T)\n",
    "\n",
    "covariance = pca_B.covariance(B)\n",
    "\n",
    "assert np.allclose(covariance_exp, covariance)"
   ]
  },
  {
   "cell_type": "code",
   "execution_count": 15,
   "metadata": {},
   "outputs": [],
   "source": [
    "pca_C = metnum.PCA(alpha)\n",
    "C = np.random.rand(100, 20) # Creo una matriz al azar de 100x100 con coeficientes entre 0 y 100.\n",
    "covariance_exp = covariance_exp = np.cov(C.T)\n",
    "\n",
    "covariance = pca_B.covariance(C)\n",
    "\n",
    "assert np.allclose(covariance_exp, covariance)"
   ]
  },
  {
   "cell_type": "code",
   "execution_count": null,
   "metadata": {},
   "outputs": [],
   "source": []
  }
 ],
 "metadata": {
  "kernelspec": {
   "display_name": "Python 3",
   "language": "python",
   "name": "python3"
  },
  "language_info": {
   "codemirror_mode": {
    "name": "ipython",
    "version": 3
   },
   "file_extension": ".py",
   "mimetype": "text/x-python",
   "name": "python",
   "nbconvert_exporter": "python",
   "pygments_lexer": "ipython3",
   "version": "3.8.3"
  }
 },
 "nbformat": 4,
 "nbformat_minor": 4
}
