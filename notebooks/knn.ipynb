{
 "cells": [
  {
   "cell_type": "markdown",
   "metadata": {},
   "source": [
    "# Reconocimiento de dígitos con KNN\n",
    "\n"
   ]
  },
  {
   "cell_type": "markdown",
   "metadata": {},
   "source": [
    "Definir los path al ejecutable de python 3.6 y sus librerías,\n",
    "de acuerdo al virtual env que estén corriendo."
   ]
  },
  {
   "cell_type": "code",
<<<<<<< Updated upstream
   "execution_count": 1,
=======
   "execution_count": null,
>>>>>>> Stashed changes
   "metadata": {},
   "outputs": [
    {
     "name": "stdout",
     "output_type": "stream",
     "text": [
      "mkdir: cannot create directory ‘build’: File exists\n",
<<<<<<< Updated upstream
      "-- The C compiler identification is GNU 7.5.0\n",
      "-- The CXX compiler identification is GNU 7.5.0\n",
=======
      "-- The C compiler identification is GNU 10.1.0\n",
      "-- The CXX compiler identification is GNU 10.1.0\n",
>>>>>>> Stashed changes
      "-- Check for working C compiler: /usr/bin/cc\n",
      "-- Check for working C compiler: /usr/bin/cc - works\n",
      "-- Detecting C compiler ABI info\n",
      "-- Detecting C compiler ABI info - done\n",
      "-- Detecting C compile features\n",
      "-- Detecting C compile features - done\n",
      "-- Check for working CXX compiler: /usr/bin/c++\n",
      "-- Check for working CXX compiler: /usr/bin/c++ - works\n",
      "-- Detecting CXX compiler ABI info\n",
      "-- Detecting CXX compiler ABI info - done\n",
      "-- Detecting CXX compile features\n",
      "-- Detecting CXX compile features - done\n",
      "Release mode\n",
<<<<<<< Updated upstream
      "-- Found PythonInterp: /home/j/anaconda3/bin/python (found version \"3.7.4\") \n",
      "-- Found PythonLibs: /home/j/anaconda3/lib/libpython3.7m.so\n",
=======
      "-- Found PythonInterp: /home/fyulita/.virtualenvs/scienv/bin/python (found version \"3.8.3\") \n",
      "-- Found PythonLibs: /usr/lib/libpython3.8.so\n",
>>>>>>> Stashed changes
      "-- pybind11 v2.2.4\n",
      "-- Performing Test HAS_FLTO\n",
      "-- Performing Test HAS_FLTO - Success\n",
      "-- LTO enabled\n",
<<<<<<< Updated upstream
      "CMAKE_INSTALL_PREFIX=/home/j/UBA/metodosNumericos/hub/metodos-tp2\n",
      "-- Configuring done\n",
      "-- Generating done\n",
      "-- Build files have been written to: /home/j/UBA/metodosNumericos/hub/metodos-tp2/build\n",
      "\u001b[35m\u001b[1mScanning dependencies of target tp02\u001b[0m\n",
      "[ 10%] \u001b[32mBuilding CXX object CMakeFiles/tp02.dir/src/main.cpp.o\u001b[0m\n",
      "[ 20%] \u001b[32mBuilding CXX object CMakeFiles/tp02.dir/src/knn.cpp.o\u001b[0m\n",
      "[ 30%] \u001b[32mBuilding CXX object CMakeFiles/tp02.dir/src/pca.cpp.o\u001b[0m\n",
      "[ 40%] \u001b[32mBuilding CXX object CMakeFiles/tp02.dir/src/eigen.cpp.o\u001b[0m\n",
      "[ 50%] \u001b[32m\u001b[1mLinking CXX executable tp02\u001b[0m\n",
      "[ 50%] Built target tp02\n",
      "\u001b[35m\u001b[1mScanning dependencies of target metnum\u001b[0m\n",
      "[ 60%] \u001b[32mBuilding CXX object CMakeFiles/metnum.dir/src/metnum.cpp.o\u001b[0m\n",
      "[ 70%] \u001b[32mBuilding CXX object CMakeFiles/metnum.dir/src/knn.cpp.o\u001b[0m\n",
      "[ 80%] \u001b[32mBuilding CXX object CMakeFiles/metnum.dir/src/pca.cpp.o\u001b[0m\n",
      "[ 90%] \u001b[32mBuilding CXX object CMakeFiles/metnum.dir/src/eigen.cpp.o\u001b[0m\n",
      "[100%] \u001b[32m\u001b[1mLinking CXX shared module metnum.cpython-37m-x86_64-linux-gnu.so\u001b[0m\n",
      "[100%] Built target metnum\n",
      "\u001b[36mInstall the project...\u001b[0m\n",
      "-- Install configuration: \"Release\"\n",
      "-- Installing: /home/j/UBA/metodosNumericos/hub/metodos-tp2/notebooks/metnum.cpython-37m-x86_64-linux-gnu.so\n"
=======
      "CMAKE_INSTALL_PREFIX=/home/fyulita/Documents/UBA/2020-1C/Metodos Numericos/Material/Laboratorio/tp02\n",
      "-- Configuring done\n",
      "-- Generating done\n",
      "-- Build files have been written to: /home/fyulita/Documents/UBA/2020-1C/Metodos Numericos/Material/Laboratorio/tp02/build\n",
      "\u001b[35m\u001b[1mScanning dependencies of target tp2\u001b[0m\n",
      "[ 10%] \u001b[32mBuilding CXX object CMakeFiles/tp2.dir/src/main.cpp.o\u001b[0m\n",
      "[ 20%] \u001b[32mBuilding CXX object CMakeFiles/tp2.dir/src/knn.cpp.o\u001b[0m\n"
>>>>>>> Stashed changes
     ]
    }
   ],
   "source": [
    "!cd .. && mkdir build\n",
    "!cd ../build/ && rm -rf *\n",
    "!cd ../build && cmake \\\n",
    "  -DPYTHON_EXECUTABLE=\"$(which python)\" \\\n",
    "  -DCMAKE_BUILD_TYPE=Release ..\n",
    "!cd ../build && make install"
   ]
  },
  {
   "cell_type": "code",
   "execution_count": 2,
   "metadata": {},
   "outputs": [
    {
     "name": "stdout",
     "output_type": "stream",
     "text": [
<<<<<<< Updated upstream
      "/home/j/UBA/metodosNumericos/hub/metodos-tp2/notebooks\n",
      "Python 3.7.4\n"
=======
      "/home/fyulita/Documents/UBA/2020-1C/Metodos Numericos/Material/Laboratorio/tp02/notebooks\n",
      "Python 3.8.3\n"
>>>>>>> Stashed changes
     ]
    }
   ],
   "source": [
    "# Verifico la correcta instalación. Si no falla el import está OK\n",
    "!pwd\n",
    "!python --version\n",
    "import metnum\n"
   ]
  },
  {
   "cell_type": "markdown",
   "metadata": {},
   "source": [
    "## Explorando los datos"
   ]
  },
  {
   "cell_type": "code",
   "execution_count": 3,
   "metadata": {},
   "outputs": [],
   "source": [
    "%load_ext autoreload\n",
    "%autoreload 2\n",
    "import pandas as pd\n",
    "\n",
    "df_train = pd.read_csv(\"../data/train.csv\")"
   ]
  },
  {
   "cell_type": "markdown",
   "metadata": {},
   "source": [
    "Es un csv, con columnas por cada pixel"
   ]
  },
  {
   "cell_type": "code",
   "execution_count": 4,
   "metadata": {},
   "outputs": [
    {
     "data": {
      "text/plain": [
       "(42000, 785)"
      ]
     },
     "execution_count": 4,
     "metadata": {},
     "output_type": "execute_result"
    }
   ],
   "source": [
    "df_train.shape"
   ]
  },
  {
   "cell_type": "markdown",
   "metadata": {},
   "source": [
    "### Reducir el dataset\n",
    "\n",
    "Ya que el dataset es grande, me quedo con una porción de éste\n",
    "\n",
    "**<font color=red>ESTO ES SOLO PARA HACER PRUEBAS. CUANDO REPORTEN LOS RESULTADOS, USAR DATASET COMPLETO</font>**"
   ]
  },
  {
   "cell_type": "code",
   "execution_count": 5,
   "metadata": {},
   "outputs": [],
   "source": [
    "data_train = df_train[:5000]\n",
    "#data_test = df_train[5000:7000]"
   ]
  },
  {
   "cell_type": "markdown",
   "metadata": {},
   "source": [
    "En el primer caracter está el dígito a reconocer. Llamamos a esto `y_train`"
   ]
  },
  {
   "cell_type": "code",
   "execution_count": 6,
   "metadata": {},
   "outputs": [
    {
     "data": {
      "text/plain": [
       "((5000, 784), (5000, 1))"
      ]
     },
     "execution_count": 6,
     "metadata": {},
     "output_type": "execute_result"
    }
   ],
   "source": [
    "# Uso values para mandar todo a arrays de numpy\n",
    "X = data_train[data_train.columns[1:]].values\n",
    "y = data_train[\"label\"].values.reshape(-1, 1)\n",
    "\n",
    "X.shape, y.shape"
   ]
  },
  {
   "cell_type": "markdown",
   "metadata": {},
   "source": [
    "Convierto el resto a matrices de 28 x 28"
   ]
  },
  {
   "cell_type": "markdown",
   "metadata": {},
   "source": [
    "A ver cómo se ven..."
   ]
  },
  {
   "cell_type": "code",
   "execution_count": 7,
   "metadata": {},
   "outputs": [
    {
     "name": "stdout",
     "output_type": "stream",
     "text": [
      "Supuestamente es un 5\n"
     ]
    },
    {
     "data": {
      "text/plain": [
<<<<<<< Updated upstream
       "<matplotlib.image.AxesImage at 0x7f27da7d3d50>"
=======
       "<matplotlib.image.AxesImage at 0x7f0224e973a0>"
>>>>>>> Stashed changes
      ]
     },
     "execution_count": 7,
     "metadata": {},
     "output_type": "execute_result"
    },
    {
     "data": {
      "image/png": "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\n",
      "text/plain": [
       "<Figure size 432x288 with 1 Axes>"
      ]
     },
     "metadata": {
      "needs_background": "light"
     },
     "output_type": "display_data"
    }
   ],
   "source": [
    "import matplotlib.pyplot as plt\n",
    "\n",
    "num = 8\n",
    "\n",
    "print(\"Supuestamente es un {}\".format(int(y[num])))\n",
    "\n",
    "img = X[num].reshape(28, 28)\n",
    "plt.imshow(img, cmap=\"Greys\")\n"
   ]
  },
  {
   "cell_type": "markdown",
   "metadata": {},
   "source": [
    "### Balance de clases\n",
    "\n",
    "¿Tenemos la misma cantidad de cada número?"
   ]
  },
  {
   "cell_type": "code",
   "execution_count": 8,
   "metadata": {},
   "outputs": [
    {
     "data": {
      "text/plain": [
       "1    0.1116\n",
       "2    0.1090\n",
       "6    0.1032\n",
       "7    0.1012\n",
       "0    0.0988\n",
       "3    0.0960\n",
       "9    0.0956\n",
       "8    0.0954\n",
       "4    0.0954\n",
       "5    0.0938\n",
       "Name: label, dtype: float64"
      ]
     },
     "execution_count": 8,
     "metadata": {},
     "output_type": "execute_result"
    }
   ],
   "source": [
    "data_train[\"label\"].value_counts(normalize=True)"
   ]
  },
  {
   "cell_type": "markdown",
   "metadata": {},
   "source": [
    "No: tenemos más 1 que 5, pero tampoco está tan desbalanceado"
   ]
  },
  {
   "cell_type": "markdown",
   "metadata": {},
   "source": [
    "### Conjunto de development"
   ]
  },
  {
   "cell_type": "code",
   "execution_count": 9,
   "metadata": {
    "scrolled": true
   },
   "outputs": [
    {
     "name": "stdout",
     "output_type": "stream",
     "text": [
      "Ahora tengo 4000 instancias de entrenamiento y 4000 de testeo\n"
     ]
    }
   ],
   "source": [
    "#DATA SPLIT: elijo que porcentaje del total es para training y cual es para Testeo.\n",
    "limit = int(0.8 * X.shape[0]) \n",
    "\n",
    "X_train, y_train = X[:limit], y[:limit]\n",
    "X_test, y_test = X[limit:], y[limit:]\n",
    "\n",
    "assert len(X_train) == len(y_train)\n",
    "assert len(X_test) == len(y_test)\n",
    "\n",
    "#print(f\"Ahora tengo {len(X_train)} instancias de entrenamiento y {len(X_test)} de testeo\")\n",
    "print(\"Ahora tengo {0} instancias de entrenamiento y {0} de testeo\".format(len(X_train)))\n"
   ]
  },
  {
   "cell_type": "code",
   "execution_count": 10,
   "metadata": {},
   "outputs": [],
   "source": [
    "def list_mean(list):\n",
    "    return sum(list)/ len(list)"
   ]
  },
  {
   "cell_type": "markdown",
   "metadata": {},
   "source": [
    "#  K-Fold Validation\n"
   ]
  },
  {
   "cell_type": "code",
   "execution_count": 11,
   "metadata": {},
   "outputs": [
    {
     "name": "stdout",
     "output_type": "stream",
     "text": [
      "KFold(n_splits=4, random_state=None, shuffle=False)\n"
     ]
    }
   ],
   "source": [
    "#dividimos los datos de entrenamiento en K subsets. Utilizamos K-1 de esos subsets para entrenar a la maquina y\n",
    "# el que queda se usa como validacion\n",
    "\n",
    "#Se hacen K distintos rounds de entrenamiento variando el subset que se utiliza como validacion. Luego se testea\n",
    "# cada uno de los 'rounds' y se calcula el Accuracy promedio entre todos ellos.\n",
    "\n",
    "#no confundir K de K-fold con k de knn!!\n",
    "\n",
    "from sklearn.model_selection import KFold\n",
    "\n",
    "K = 4\n",
    "kfold = KFold(n_splits = K)   #defino el split en K fold\n",
    "kfold.get_n_splits(X_train)\n",
    "\n",
    "print(kfold)\n"
   ]
  },
  {
   "cell_type": "markdown",
   "metadata": {},
   "source": [
    "### KNN SIN PCA "
   ]
  },
  {
   "cell_type": "code",
   "execution_count": 12,
   "metadata": {},
   "outputs": [
    {
     "name": "stdout",
     "output_type": "stream",
     "text": [
      "Round 1:\n",
      "Accuracy: 0.808\n",
      "\n",
      "\n",
      "Round 2:\n",
      "Accuracy: 0.802\n",
      "\n",
      "\n",
      "Round 3:\n",
      "Accuracy: 0.822\n",
      "\n",
      "\n",
      "Round 4:\n",
      "Accuracy: 0.803\n",
      "\n",
      "\n",
      "The mean accuracy of 4-Fold Cross-Validation with 100 neighbors is: 0.80875\n"
     ]
    }
   ],
   "source": [
    "#Entreno a la maquina con K-Fold y guardo los resultados para cada iteracion\n",
    "\n",
    "from sklearn.metrics import accuracy_score\n",
    "\n",
    "#lista de los accuracies de cada round de K-Fold\n",
    "allAcc= []\n",
    "\n",
    "#neighbors\n",
    "#ACA se puede jugar con la cantidad de Neighbors (k) que utiliza el algoritmo knn\n",
    "k = 100\n",
    "i=1\n",
    "\n",
    "#el sistema que vamos a entrenar\n",
    "knn = metnum.KNNClassifier(k)\n",
    "\n",
    "for train_index, val_index in kfold.split(X_train):\n",
    "    #print(f\"Train: {train_index} Val: {val_index}\")\n",
    "    X_ktrain, X_kval = X_train[train_index], X_train[val_index]\n",
    "    y_ktrain, y_kval = y_train[train_index], y_train[val_index]\n",
    "    \n",
    "    #entreno a la maquina con los K-1 subsets asignados\n",
    "    knn.fit(X_ktrain, y_ktrain)\n",
    "    #ahora hago la prediccion con los X_kval que se usan para validar la iteracion de entrenamiento actual\n",
    "    y_kpred = knn.predict(X_kval)\n",
    "    #comparo los resultados de los X_val con sos correspondientes y_val\n",
    "    acc = accuracy_score(y_kval, y_kpred)\n",
    "    allAcc.append(acc)\n",
    "    \n",
    "    print(\"Round {}:\".format(i))\n",
    "    print(\"Accuracy: {}\".format(acc))\n",
    "    print(\"\\n\")\n",
    "    i+= 1\n",
    "\n",
    "meanAcc = list_mean(allAcc)\n",
    "print(\"The mean accuracy of {}-Fold Cross-Validation with {} neighbors is: {}\".format(K,k,meanAcc))"
   ]
  },
  {
   "cell_type": "markdown",
   "metadata": {},
   "source": [
    "### Testeo de KNN sin PCA"
   ]
  },
  {
   "cell_type": "code",
   "execution_count": 13,
   "metadata": {},
   "outputs": [
    {
     "name": "stdout",
     "output_type": "stream",
     "text": [
      "Accuracy: 0.815\n"
     ]
    }
   ],
   "source": [
    "#Una vez entrenado el knn, se puede testear con los datos que nunca vio para ver si logro desarrollar \n",
    "# una prediccion generalizada (que no haya overfit)\n",
    "\n",
    "#Tiempo de ejecucion\n",
    "#%%time\n",
    "from sklearn.metrics import accuracy_score\n",
    "\n",
    "#utilizo los X_test que la maquina nunca vio para testear\n",
    "y_pred = knn.predict(X_test)\n",
    "\n",
    "#Accuracy\n",
    "test_acc = accuracy_score(y_test, y_pred)\n",
    "print(\"Accuracy: {}\".format(test_acc))\n",
    "\n",
    "#AGREGAR OTRO PARAMETRO MAS DE ANALISIS\n"
   ]
  },
  {
   "cell_type": "markdown",
   "metadata": {},
   "source": [
    "### KNN CON PCA"
   ]
  },
  {
   "cell_type": "code",
<<<<<<< Updated upstream
   "execution_count": 15,
   "metadata": {},
   "outputs": [],
   "source": [
    "#me falta hacer lo mismo de arriba pero llamando a PCA "
   ]
  },
  {
   "cell_type": "code",
=======
>>>>>>> Stashed changes
   "execution_count": 14,
   "metadata": {},
   "outputs": [
    {
     "name": "stdout",
     "output_type": "stream",
     "text": [
      "Round 1:\n",
      "Accuracy: 0.091\n",
      "\n",
      "\n",
      "Round 2:\n",
      "Accuracy: 0.094\n",
      "\n",
      "\n",
      "Round 3:\n",
      "Accuracy: 0.112\n",
      "\n",
      "\n",
      "Round 4:\n",
      "Accuracy: 0.104\n",
      "\n",
      "\n",
      "The mean accuracy of 4-Fold Cross-Validation with PCA with 100 neighbors is: 0.10024999999999999\n"
     ]
    }
   ],
   "source": [
    "#Entreno a la maquina con K-Fold y guardo los resultados para cada iteracion\n",
    "\n",
    "from sklearn.metrics import accuracy_score\n",
    "\n",
    "#lista de los accuracies de cada round de K-Fold\n",
    "allAcc= []\n",
    "\n",
    "#neighbors\n",
    "#ACA se puede jugar con la cantidad de Neighbors (k) que utiliza el algoritmo knn\n",
    "k = 100\n",
    "alpha = 100\n",
    "i=1\n",
    "\n",
    "#el sistema que vamos a entrenar\n",
    "knn = metnum.KNNClassifier(k)\n",
    "pca = metnum.PCA(alpha)\n",
    "\n",
    "\n",
    "for train_index, val_index in kfold.split(X_train):\n",
    "    X_ktrain, X_kval = X_train[train_index], X_train[val_index]\n",
    "    y_ktrain, y_kval = y_train[train_index], y_train[val_index]\n",
    "    \n",
    "    pca.fit(X_ktrain)\n",
    "    X_train_transformed = pca.transform(X_ktrain)\n",
    "    \n",
    "    #entreno a la maquina con los K-1 subsets asignados\n",
    "    knn.fit(X_train_transformed, y_ktrain)\n",
    "       \n",
    "    X_val_transformed = pca.transform(X_kval)\n",
    "\n",
    "    y_kpred = knn.predict(X_val_transformed)\n",
    "    \n",
    "    #comparo los resultados de los X_val con sos correspondientes y_val\n",
    "    acc = accuracy_score(y_kval, y_kpred)\n",
    "    allAcc.append(acc)\n",
    "    \n",
    "    print(\"Round {}:\".format(i))\n",
    "    print(\"Accuracy: {}\".format(acc))\n",
    "    print(\"\\n\")\n",
    "    i+= 1\n",
    "\n",
    "meanAcc = list_mean(allAcc)\n",
    "print(\"The mean accuracy of {}-Fold Cross-Validation with PCA with {} neighbors is: {}\".format(K,k,meanAcc))"
   ]
  },
  {
   "cell_type": "code",
   "execution_count": 15,
   "metadata": {},
   "outputs": [
    {
     "name": "stdout",
     "output_type": "stream",
     "text": [
      "Accuracy KNN with PCA: 0.112\n"
     ]
    }
   ],
   "source": [
    "X_transformed = pca.transform(X_test)\n",
    "y_pred = knn.predict(X_transformed)\n",
    "\n",
    "test_acc = accuracy_score(y_test, y_pred)\n",
    "print(\"Accuracy KNN with PCA: {}\".format(test_acc))"
   ]
  },
  {
   "cell_type": "code",
   "execution_count": 16,
   "metadata": {},
   "outputs": [
    {
     "data": {
      "text/plain": [
       "array([[ 9.35484604e+02, -2.04319943e+01, -2.73514769e+02, ...,\n",
       "         1.10252935e+02,  6.28717606e+01, -3.41709414e+00],\n",
       "       [ 5.23421793e+02, -5.70693267e+02, -3.63038112e+02, ...,\n",
       "        -2.06265429e+01,  3.20814268e+01, -8.29060506e+01],\n",
       "       [ 1.44935673e+03,  7.37309441e+01,  7.30442320e+01, ...,\n",
       "        -1.30901681e+01, -1.26400346e+00,  6.19744791e+01],\n",
       "       ...,\n",
       "       [ 8.28248767e+02,  1.39476783e+02, -3.93359320e+02, ...,\n",
       "        -6.35228699e+01,  1.83717222e+01, -7.72048492e+01],\n",
       "       [ 3.27701520e+02,  6.44826630e+02, -3.00029441e+01, ...,\n",
       "        -7.74954192e+00, -1.31641981e+01, -1.23052331e+00],\n",
       "       [ 3.82682640e+02,  1.97577784e+02, -1.54674085e+02, ...,\n",
       "         7.54134126e+01, -2.35739467e+01, -4.95432642e+01]])"
      ]
     },
     "metadata": {},
     "output_type": "display_data"
    }
   ],
   "source": [
    "display(X_transformed)"
   ]
  },
  {
   "cell_type": "markdown",
   "metadata": {},
   "source": [
    "### Testeo SIN PCA\n",
    "\n",
    "#### (todo esto se puede ignorar)"
   ]
  },
  {
   "cell_type": "code",
   "execution_count": 17,
   "metadata": {},
   "outputs": [],
   "source": [
    "from sklearn.neighbors import KNeighborsClassifier\n",
    "\n",
    "# Acá pueden cambiar el clasificador nuestro por el de sklearn!\n",
    "\n",
    "\n",
    "#ACA se puede jugar con la cantidad de Neighbors (k) que utiliza el algoritmo knn\n",
    "clf = metnum.KNNClassifier(50)\n",
    "#clf = KNeighborsClassifier(100)\n",
    "\n",
    "clf.fit(X_train, y_train)\n"
   ]
  },
  {
   "cell_type": "code",
   "execution_count": 18,
   "metadata": {},
   "outputs": [
    {
     "name": "stderr",
     "output_type": "stream",
     "text": [
      "UsageError: Line magic function `%%time` not found.\n"
     ]
    }
   ],
   "source": [
    "#Tiempo de ejecucion\n",
    "%%time\n",
    "from sklearn.metrics import accuracy_score\n",
    "y_pred = clf.predict(X_test)\n",
    "\n",
    "\n",
    "#Accuracy\n",
    "acc = accuracy_score(y_test, y_pred)\n",
    "print(\"Accuracy: {}\".format(acc))\n",
    "\n",
    "#AGREGAR OTRO PARAMETRO MAS DE ANALISIS\n",
    "\n"
   ]
  },
  {
   "cell_type": "code",
   "execution_count": null,
   "metadata": {},
   "outputs": [],
   "source": []
  }
 ],
 "metadata": {
  "kernelspec": {
   "display_name": "Python 3",
   "language": "python",
   "name": "python3"
  },
  "language_info": {
   "codemirror_mode": {
    "name": "ipython",
    "version": 3
   },
   "file_extension": ".py",
   "mimetype": "text/x-python",
   "name": "python",
   "nbconvert_exporter": "python",
   "pygments_lexer": "ipython3",
<<<<<<< Updated upstream
   "version": "3.7.4"
=======
   "version": "3.8.3"
>>>>>>> Stashed changes
  }
 },
 "nbformat": 4,
 "nbformat_minor": 4
}
