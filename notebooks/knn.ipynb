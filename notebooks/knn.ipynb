{
 "cells": [
  {
   "cell_type": "markdown",
   "metadata": {},
   "source": [
    "# Reconocimiento de dígitos con KNN\n",
    "\n"
   ]
  },
  {
   "cell_type": "markdown",
   "metadata": {},
   "source": [
    "Definir los path al ejecutable de python 3.6 y sus librerías,\n",
    "de acuerdo al virtual env que estén corriendo."
   ]
  },
  {
   "cell_type": "code",
   "execution_count": 2,
   "metadata": {},
   "outputs": [
    {
     "name": "stdout",
     "output_type": "stream",
     "text": [
      "mkdir: no se puede crear el directorio «build»: El archivo ya existe\n",
      "-- The C compiler identification is GNU 7.5.0\n",
      "-- The CXX compiler identification is GNU 7.5.0\n",
      "-- Check for working C compiler: /usr/bin/cc\n",
      "-- Check for working C compiler: /usr/bin/cc -- works\n",
      "-- Detecting C compiler ABI info\n",
      "-- Detecting C compiler ABI info - done\n",
      "-- Detecting C compile features\n",
      "-- Detecting C compile features - done\n",
      "-- Check for working CXX compiler: /usr/bin/c++\n",
      "-- Check for working CXX compiler: /usr/bin/c++ -- works\n",
      "-- Detecting CXX compiler ABI info\n",
      "-- Detecting CXX compiler ABI info - done\n",
      "-- Detecting CXX compile features\n",
      "-- Detecting CXX compile features - done\n",
      "Release mode\n",
      "-- Found PythonInterp: /usr/bin/python (found version \"2.7.17\") \n",
      "-- Found PythonLibs: /usr/lib/x86_64-linux-gnu/libpython2.7.so\n",
      "-- pybind11 v2.2.4\n",
      "-- Performing Test HAS_FLTO\n",
      "-- Performing Test HAS_FLTO - Success\n",
      "-- LTO enabled\n",
      "CMAKE_INSTALL_PREFIX=/home/matias/Documentos/Metodos Numericos/TP2/metodos-tp2\n",
      "-- Configuring done\n",
      "-- Generating done\n",
      "-- Build files have been written to: /home/matias/Documentos/Metodos Numericos/TP2/metodos-tp2/build\n",
      "\u001b[35m\u001b[1mScanning dependencies of target tp02\u001b[0m\n",
      "[ 10%] \u001b[32mBuilding CXX object CMakeFiles/tp02.dir/src/main.cpp.o\u001b[0m\n",
      "[ 20%] \u001b[32mBuilding CXX object CMakeFiles/tp02.dir/src/knn.cpp.o\u001b[0m\n",
      "[ 30%] \u001b[32mBuilding CXX object CMakeFiles/tp02.dir/src/pca.cpp.o\u001b[0m\n",
      "[ 40%] \u001b[32mBuilding CXX object CMakeFiles/tp02.dir/src/eigen.cpp.o\u001b[0m\n",
      "[ 50%] \u001b[32m\u001b[1mLinking CXX executable tp02\u001b[0m\n",
      "[ 50%] Built target tp02\n",
      "\u001b[35m\u001b[1mScanning dependencies of target metnum\u001b[0m\n",
      "[ 60%] \u001b[32mBuilding CXX object CMakeFiles/metnum.dir/src/metnum.cpp.o\u001b[0m\n",
      "[ 70%] \u001b[32mBuilding CXX object CMakeFiles/metnum.dir/src/knn.cpp.o\u001b[0m\n",
      "[ 80%] \u001b[32mBuilding CXX object CMakeFiles/metnum.dir/src/pca.cpp.o\u001b[0m\n",
      "[ 90%] \u001b[32mBuilding CXX object CMakeFiles/metnum.dir/src/eigen.cpp.o\u001b[0m\n",
      "[100%] \u001b[32m\u001b[1mLinking CXX shared module metnum.so\u001b[0m\n",
      "[100%] Built target metnum\n",
      "\u001b[36mInstall the project...\u001b[0m\n",
      "-- Install configuration: \"Release\"\n",
      "-- Installing: /home/matias/Documentos/Metodos Numericos/TP2/metodos-tp2/notebooks/metnum.so\n"
     ]
    }
   ],
   "source": [
    "!cd .. && mkdir build\n",
    "!cd ../build/ && rm -rf *\n",
    "!cd ../build && cmake \\\n",
    "  -DPYTHON_EXECUTABLE=\"$(which python)\" \\\n",
    "  -DCMAKE_BUILD_TYPE=Release ..\n",
    "!cd ../build && make install"
   ]
  },
  {
   "cell_type": "code",
   "execution_count": 3,
   "metadata": {},
   "outputs": [
    {
     "name": "stdout",
     "output_type": "stream",
     "text": [
      "/home/matias/Documentos/Metodos Numericos/TP2/metodos-tp2/notebooks\n",
      "Python 2.7.17\n"
     ]
    }
   ],
   "source": [
    "# Verifico la correcta instalación. Si no falla el import está OK\n",
    "!pwd\n",
    "!python --version\n",
    "import metnum\n"
   ]
  },
  {
   "cell_type": "markdown",
   "metadata": {},
   "source": [
    "## Explorando los datos"
   ]
  },
  {
   "cell_type": "code",
   "execution_count": 4,
   "metadata": {},
   "outputs": [],
   "source": [
    "%load_ext autoreload\n",
    "%autoreload 2\n",
    "import pandas as pd\n",
    "\n",
    "df_train = pd.read_csv(\"../data/train.csv\")"
   ]
  },
  {
   "cell_type": "markdown",
   "metadata": {},
   "source": [
    "Es un csv, con columnas por cada pixel"
   ]
  },
  {
   "cell_type": "code",
   "execution_count": 5,
   "metadata": {},
   "outputs": [
    {
     "data": {
      "text/plain": [
       "(42000, 785)"
      ]
     },
     "execution_count": 5,
     "metadata": {},
     "output_type": "execute_result"
    }
   ],
   "source": [
    "df_train.shape"
   ]
  },
  {
   "cell_type": "markdown",
   "metadata": {},
   "source": [
    "### Reducir el dataset\n",
    "\n",
    "Ya que el dataset es grande, me quedo con una porción de éste\n",
    "\n",
    "**<font color=red>ESTO ES SOLO PARA HACER PRUEBAS. CUANDO REPORTEN LOS RESULTADOS, USAR DATASET COMPLETO</font>**"
   ]
  },
  {
   "cell_type": "code",
   "execution_count": 6,
   "metadata": {},
   "outputs": [],
   "source": [
    "data_train = df_train[:5000]\n",
    "#data_test = df_train[5000:7000]"
   ]
  },
  {
   "cell_type": "markdown",
   "metadata": {},
   "source": [
    "En el primer caracter está el dígito a reconocer. Llamamos a esto `y_train`"
   ]
  },
  {
   "cell_type": "code",
   "execution_count": 7,
   "metadata": {},
   "outputs": [
    {
     "data": {
      "text/plain": [
       "((5000, 784), (5000, 1))"
      ]
     },
     "execution_count": 7,
     "metadata": {},
     "output_type": "execute_result"
    }
   ],
   "source": [
    "# Uso values para mandar todo a arrays de numpy\n",
    "X = data_train[data_train.columns[1:]].values\n",
    "y = data_train[\"label\"].values.reshape(-1, 1)\n",
    "\n",
    "X.shape, y.shape"
   ]
  },
  {
   "cell_type": "markdown",
   "metadata": {},
   "source": [
    "Convierto el resto a matrices de 28 x 28"
   ]
  },
  {
   "cell_type": "markdown",
   "metadata": {},
   "source": [
    "A ver cómo se ven..."
   ]
  },
  {
   "cell_type": "code",
   "execution_count": 8,
   "metadata": {},
   "outputs": [
    {
     "name": "stdout",
     "output_type": "stream",
     "text": [
      "Supuestamente es un 5\n"
     ]
    },
    {
     "data": {
      "text/plain": [
       "<matplotlib.image.AxesImage at 0x7f3b17d0cc90>"
      ]
     },
     "execution_count": 8,
     "metadata": {},
     "output_type": "execute_result"
    }
   ],
   "source": [
    "import matplotlib.pyplot as plt\n",
    "\n",
    "num = 8\n",
    "\n",
    "print(\"Supuestamente es un {}\".format(int(y[num])))\n",
    "\n",
    "img = X[num].reshape(28, 28)\n",
    "plt.imshow(img, cmap=\"Greys\")\n"
   ]
  },
  {
   "cell_type": "markdown",
   "metadata": {},
   "source": [
    "### Balance de clases\n",
    "\n",
    "¿Tenemos la misma cantidad de cada número?"
   ]
  },
  {
   "cell_type": "code",
   "execution_count": 9,
   "metadata": {},
   "outputs": [
    {
     "data": {
      "text/plain": [
       "1    0.1116\n",
       "2    0.1090\n",
       "6    0.1032\n",
       "7    0.1012\n",
       "0    0.0988\n",
       "3    0.0960\n",
       "9    0.0956\n",
       "8    0.0954\n",
       "4    0.0954\n",
       "5    0.0938\n",
       "Name: label, dtype: float64"
      ]
     },
     "execution_count": 9,
     "metadata": {},
     "output_type": "execute_result"
    }
   ],
   "source": [
    "data_train[\"label\"].value_counts(normalize=True)"
   ]
  },
  {
   "cell_type": "markdown",
   "metadata": {},
   "source": [
    "No: tenemos más 1 que 5, pero tampoco está tan desbalanceado"
   ]
  },
  {
   "cell_type": "markdown",
   "metadata": {},
   "source": [
    "### Conjunto de development"
   ]
  },
  {
   "cell_type": "code",
   "execution_count": 10,
   "metadata": {
    "scrolled": true
   },
   "outputs": [
    {
     "name": "stdout",
     "output_type": "stream",
     "text": [
      "Ahora tengo 4000 instancias de entrenamiento y 4000 de testeo\n"
     ]
    }
   ],
   "source": [
    "#DATA SPLIT: elijo que porcentaje del total es para training y cual es para Testeo.\n",
    "limit = int(0.8 * X.shape[0]) \n",
    "\n",
    "X_train, y_train = X[:limit], y[:limit]\n",
    "X_test, y_test = X[limit:], y[limit:]\n",
    "\n",
    "assert len(X_train) == len(y_train)\n",
    "assert len(X_test) == len(y_test)\n",
    "\n",
    "#print(f\"Ahora tengo {len(X_train)} instancias de entrenamiento y {len(X_test)} de testeo\")\n",
    "print(\"Ahora tengo {0} instancias de entrenamiento y {0} de testeo\".format(len(X_train)))\n"
   ]
  },
  {
   "cell_type": "code",
   "execution_count": 11,
   "metadata": {},
   "outputs": [],
   "source": [
    "def list_mean(list):\n",
    "    return sum(list)/ len(list)"
   ]
  },
  {
   "cell_type": "markdown",
   "metadata": {},
   "source": [
    "#  K-Fold Validation\n"
   ]
  },
  {
   "cell_type": "code",
   "execution_count": 12,
   "metadata": {},
   "outputs": [
    {
     "name": "stdout",
     "output_type": "stream",
     "text": [
      "KFold(n_splits=4, random_state=None, shuffle=False)\n"
     ]
    }
   ],
   "source": [
    "#dividimos los datos de entrenamiento en K subsets. Utilizamos K-1 de esos subsets para entrenar a la maquina y\n",
    "# el que queda se usa como validacion\n",
    "\n",
    "#Se hacen K distintos rounds de entrenamiento variando el subset que se utiliza como validacion. Luego se testea\n",
    "# cada uno de los 'rounds' y se calcula el Accuracy promedio entre todos ellos.\n",
    "\n",
    "#no confundir K de K-fold con k de knn!!\n",
    "\n",
    "from sklearn.model_selection import KFold\n",
    "\n",
    "K = 4\n",
    "kfold = KFold(n_splits = K)   #defino el split en K fold\n",
    "kfold.get_n_splits(X_train)\n",
    "\n",
    "print(kfold)\n"
   ]
  },
  {
   "cell_type": "markdown",
   "metadata": {},
   "source": [
    "### KNN SIN PCA "
   ]
  },
  {
   "cell_type": "code",
   "execution_count": 13,
   "metadata": {},
   "outputs": [
    {
     "name": "stdout",
     "output_type": "stream",
     "text": [
      "Round 1:\n",
      "Accuracy: 0.808\n",
      "\n",
      "\n",
      "Round 2:\n",
      "Accuracy: 0.802\n",
      "\n",
      "\n",
      "Round 3:\n",
      "Accuracy: 0.822\n",
      "\n",
      "\n",
      "Round 4:\n",
      "Accuracy: 0.803\n",
      "\n",
      "\n",
      "The mean accuracy of 4-Fold Cross-Validation with 100 neighbors is: 0.80875\n"
     ]
    }
   ],
   "source": [
    "#Entreno a la maquina con K-Fold y guardo los resultados para cada iteracion\n",
    "\n",
    "from sklearn.metrics import accuracy_score\n",
    "\n",
    "#lista de los accuracies de cada round de K-Fold\n",
    "allAcc= []\n",
    "\n",
    "#neighbors\n",
    "#ACA se puede jugar con la cantidad de Neighbors (k) que utiliza el algoritmo knn\n",
    "k = 100\n",
    "i=1\n",
    "\n",
    "#el sistema que vamos a entrenar\n",
    "knn = metnum.KNNClassifier(k)\n",
    "\n",
    "for train_index, val_index in kfold.split(X_train):\n",
    "    #print(f\"Train: {train_index} Val: {val_index}\")\n",
    "    X_ktrain, X_kval = X_train[train_index], X_train[val_index]\n",
    "    y_ktrain, y_kval = y_train[train_index], y_train[val_index]\n",
    "    \n",
    "    #entreno a la maquina con los K-1 subsets asignados\n",
    "    knn.fit(X_ktrain, y_ktrain)\n",
    "    #ahora hago la prediccion con los X_kval que se usan para validar la iteracion de entrenamiento actual\n",
    "    y_kpred = knn.predict(X_kval)\n",
    "    #comparo los resultados de los X_val con sos correspondientes y_val\n",
    "    acc = accuracy_score(y_kval, y_kpred)\n",
    "    allAcc.append(acc)\n",
    "    \n",
    "    print(\"Round {}:\".format(i))\n",
    "    print(\"Accuracy: {}\".format(acc))\n",
    "    print(\"\\n\")\n",
    "    i+= 1\n",
    "\n",
    "meanAcc = list_mean(allAcc)\n",
    "print(\"The mean accuracy of {}-Fold Cross-Validation with {} neighbors is: {}\".format(K,k,meanAcc))"
   ]
  },
  {
   "cell_type": "markdown",
   "metadata": {},
   "source": [
    "### Testeo de KNN sin PCA"
   ]
  },
  {
   "cell_type": "code",
   "execution_count": 14,
   "metadata": {},
   "outputs": [
    {
     "name": "stdout",
     "output_type": "stream",
     "text": [
      "Accuracy: 0.815\n"
     ]
    }
   ],
   "source": [
    "#Una vez entrenado el knn, se puede testear con los datos que nunca vio para ver si logro desarrollar \n",
    "# una prediccion generalizada (que no haya overfit)\n",
    "\n",
    "#Tiempo de ejecucion\n",
    "#%%time\n",
    "from sklearn.metrics import accuracy_score\n",
    "\n",
    "#utilizo los X_test que la maquina nunca vio para testear\n",
    "y_pred = knn.predict(X_test)\n",
    "\n",
    "#Accuracy\n",
    "test_acc = accuracy_score(y_test, y_pred)\n",
    "print(\"Accuracy: {}\".format(test_acc))\n",
    "\n",
    "#AGREGAR OTRO PARAMETRO MAS DE ANALISIS\n"
   ]
  },
  {
   "cell_type": "code",
   "execution_count": null,
   "metadata": {},
   "outputs": [],
   "source": []
  },
  {
   "cell_type": "code",
   "execution_count": null,
   "metadata": {},
   "outputs": [],
   "source": []
  },
  {
   "cell_type": "code",
   "execution_count": null,
   "metadata": {},
   "outputs": [],
   "source": []
  },
  {
   "cell_type": "code",
   "execution_count": null,
   "metadata": {},
   "outputs": [],
   "source": []
  },
  {
   "cell_type": "markdown",
   "metadata": {},
   "source": [
    "### KNN CON PCA"
   ]
  },
  {
   "cell_type": "code",
   "execution_count": 15,
   "metadata": {},
   "outputs": [],
   "source": [
    "#me falta hacer lo mismo de arriba pero llamando a PCA "
   ]
  },
  {
   "cell_type": "code",
   "execution_count": 16,
   "metadata": {},
   "outputs": [
    {
     "name": "stdout",
     "output_type": "stream",
     "text": [
      "Round 1:\n",
      "Accuracy: 0.808\n",
      "\n",
      "\n",
      "Round 2:\n",
      "Accuracy: 0.802\n",
      "\n",
      "\n",
      "Round 3:\n",
      "Accuracy: 0.822\n",
      "\n",
      "\n",
      "Round 4:\n",
      "Accuracy: 0.803\n",
      "\n",
      "\n",
      "The mean accuracy of 4-Fold Cross-Validation with PCA with 100 neighbors is: 0.80875\n"
     ]
    }
   ],
   "source": [
    "#Entreno a la maquina con K-Fold y guardo los resultados para cada iteracion\n",
    "\n",
    "from sklearn.metrics import accuracy_score\n",
    "\n",
    "#lista de los accuracies de cada round de K-Fold\n",
    "allAcc= []\n",
    "\n",
    "#neighbors\n",
    "#ACA se puede jugar con la cantidad de Neighbors (k) que utiliza el algoritmo knn\n",
    "k = 100\n",
    "alpha = 10\n",
    "i=1\n",
    "\n",
    "#el sistema que vamos a entrenar\n",
    "knn = metnum.KNNClassifier(k)\n",
    "pca = metnum.PCA(alpha)\n",
    "\n",
    "\n",
    "for train_index, val_index in kfold.split(X_train):\n",
    "    X_ktrain, X_kval = X_train[train_index], X_train[val_index]\n",
    "    y_ktrain, y_kval = y_train[train_index], y_train[val_index]\n",
    "    \n",
    "    pca.fit(X_ktrain)\n",
    "    X_train_transformed = pca.transform(X_ktrain)\n",
    "    \n",
    "    #entreno a la maquina con los K-1 subsets asignados\n",
    "    knn.fit(X_ktrain, y_ktrain)\n",
    "       \n",
    "    X_test_transformed = pca.transform(X_kval)\n",
    "    y_kpred = knn.predict(X_test_transformed)\n",
    "    \n",
    "    #comparo los resultados de los X_val con sos correspondientes y_val\n",
    "    acc = accuracy_score(y_kval, y_kpred)\n",
    "    allAcc.append(acc)\n",
    "    \n",
    "    print(\"Round {}:\".format(i))\n",
    "    print(\"Accuracy: {}\".format(acc))\n",
    "    print(\"\\n\")\n",
    "    i+= 1\n",
    "\n",
    "meanAcc = list_mean(allAcc)\n",
    "print(\"The mean accuracy of {}-Fold Cross-Validation with PCA with {} neighbors is: {}\".format(K,k,meanAcc))"
   ]
  },
  {
   "cell_type": "code",
   "execution_count": 19,
   "metadata": {},
   "outputs": [
    {
     "name": "stdout",
     "output_type": "stream",
     "text": [
      "Accuracy KNN with PCA: 0.815\n"
     ]
    }
   ],
   "source": [
    "X_transformed = pca.transform(X_test)\n",
    "y_pred = knn.predict(X_transformed)\n",
    "\n",
    "test_acc = accuracy_score(y_test, y_pred)\n",
    "print(\"Accuracy KNN with PCA: {}\".format(test_acc))"
   ]
  },
  {
   "cell_type": "code",
   "execution_count": null,
   "metadata": {},
   "outputs": [],
   "source": []
  },
  {
   "cell_type": "code",
   "execution_count": null,
   "metadata": {},
   "outputs": [],
   "source": []
  },
  {
   "cell_type": "code",
   "execution_count": null,
   "metadata": {},
   "outputs": [],
   "source": []
  },
  {
   "cell_type": "markdown",
   "metadata": {},
   "source": [
    "### Testeo SIN PCA\n",
    "\n",
    "#### (todo esto se puede ignorar)"
   ]
  },
  {
   "cell_type": "code",
   "execution_count": null,
   "metadata": {},
   "outputs": [],
   "source": [
    "from sklearn.neighbors import KNeighborsClassifier\n",
    "\n",
    "# Acá pueden cambiar el clasificador nuestro por el de sklearn!\n",
    "\n",
    "\n",
    "#ACA se puede jugar con la cantidad de Neighbors (k) que utiliza el algoritmo knn\n",
    "clf = metnum.KNNClassifier(50)\n",
    "#clf = KNeighborsClassifier(100)\n",
    "\n",
    "clf.fit(X_train, y_train)\n"
   ]
  },
  {
   "cell_type": "code",
   "execution_count": null,
   "metadata": {},
   "outputs": [],
   "source": [
    "#Tiempo de ejecucion\n",
    "%%time\n",
    "from sklearn.metrics import accuracy_score\n",
    "y_pred = clf.predict(X_test)\n",
    "\n",
    "\n",
    "#Accuracy\n",
    "acc = accuracy_score(y_test, y_pred)\n",
    "print(\"Accuracy: {}\".format(acc))\n",
    "\n",
    "#AGREGAR OTRO PARAMETRO MAS DE ANALISIS\n",
    "\n"
   ]
  },
  {
   "cell_type": "code",
   "execution_count": null,
   "metadata": {},
   "outputs": [],
   "source": []
  },
  {
   "cell_type": "code",
   "execution_count": null,
   "metadata": {},
   "outputs": [],
   "source": []
  },
  {
   "cell_type": "code",
   "execution_count": null,
   "metadata": {},
   "outputs": [],
   "source": []
  },
  {
   "cell_type": "code",
   "execution_count": null,
   "metadata": {},
   "outputs": [],
   "source": []
  },
  {
   "cell_type": "code",
   "execution_count": null,
   "metadata": {},
   "outputs": [],
   "source": []
  },
  {
   "cell_type": "code",
   "execution_count": null,
   "metadata": {},
   "outputs": [],
   "source": []
  },
  {
   "cell_type": "code",
   "execution_count": null,
   "metadata": {},
   "outputs": [],
   "source": []
  },
  {
   "cell_type": "code",
   "execution_count": null,
   "metadata": {},
   "outputs": [],
   "source": []
  }
 ],
 "metadata": {
  "kernelspec": {
   "display_name": "Python 2",
   "language": "python",
   "name": "python2"
  },
  "language_info": {
   "codemirror_mode": {
    "name": "ipython",
    "version": 2
   },
   "file_extension": ".py",
   "mimetype": "text/x-python",
   "name": "python",
   "nbconvert_exporter": "python",
   "pygments_lexer": "ipython2",
   "version": "2.7.17"
  }
 },
 "nbformat": 4,
 "nbformat_minor": 4
}
