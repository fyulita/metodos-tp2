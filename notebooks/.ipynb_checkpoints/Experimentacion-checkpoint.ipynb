{
 "cells": [
  {
   "cell_type": "markdown",
   "metadata": {},
   "source": [
    "# Reconocimiento de Dígitos"
   ]
  },
  {
   "cell_type": "code",
   "execution_count": 1,
   "metadata": {},
   "outputs": [
    {
     "name": "stdout",
     "output_type": "stream",
     "text": [
      "mkdir: cannot create directory ‘build’: File exists\n",
      "-- The C compiler identification is GNU 10.1.0\n",
      "-- The CXX compiler identification is GNU 10.1.0\n",
      "-- Check for working C compiler: /usr/bin/cc\n",
      "-- Check for working C compiler: /usr/bin/cc - works\n",
      "-- Detecting C compiler ABI info\n",
      "-- Detecting C compiler ABI info - done\n",
      "-- Detecting C compile features\n",
      "-- Detecting C compile features - done\n",
      "-- Check for working CXX compiler: /usr/bin/c++\n",
      "-- Check for working CXX compiler: /usr/bin/c++ - works\n",
      "-- Detecting CXX compiler ABI info\n",
      "-- Detecting CXX compiler ABI info - done\n",
      "-- Detecting CXX compile features\n",
      "-- Detecting CXX compile features - done\n",
      "Release mode\n",
      "-- Found PythonInterp: /home/fyulita/.virtualenvs/scienv/bin/python (found version \"3.8.3\") \n",
      "-- Found PythonLibs: /usr/lib/libpython3.8.so\n",
      "-- pybind11 v2.2.4\n",
      "-- Performing Test HAS_FLTO\n",
      "-- Performing Test HAS_FLTO - Success\n",
      "-- LTO enabled\n",
      "CMAKE_INSTALL_PREFIX=/home/fyulita/Documents/UBA/2020-1C/Metodos Numericos/Material/Laboratorio/tp02\n",
      "-- Configuring done\n",
      "-- Generating done\n",
      "-- Build files have been written to: /home/fyulita/Documents/UBA/2020-1C/Metodos Numericos/Material/Laboratorio/tp02/build\n",
      "\u001b[35m\u001b[1mScanning dependencies of target tp2\u001b[0m\n",
      "[ 10%] \u001b[32mBuilding CXX object CMakeFiles/tp2.dir/src/main.cpp.o\u001b[0m\n",
      "[ 20%] \u001b[32mBuilding CXX object CMakeFiles/tp2.dir/src/knn.cpp.o\u001b[0m\n",
      "[ 30%] \u001b[32mBuilding CXX object CMakeFiles/tp2.dir/src/pca.cpp.o\u001b[0m\n",
      "[ 40%] \u001b[32mBuilding CXX object CMakeFiles/tp2.dir/src/eigen.cpp.o\u001b[0m\n",
      "[ 50%] \u001b[32m\u001b[1mLinking CXX executable tp2\u001b[0m\n",
      "[ 50%] Built target tp2\n",
      "\u001b[35m\u001b[1mScanning dependencies of target metnum\u001b[0m\n",
      "[ 60%] \u001b[32mBuilding CXX object CMakeFiles/metnum.dir/src/metnum.cpp.o\u001b[0m\n",
      "[ 70%] \u001b[32mBuilding CXX object CMakeFiles/metnum.dir/src/knn.cpp.o\u001b[0m\n",
      "[ 80%] \u001b[32mBuilding CXX object CMakeFiles/metnum.dir/src/pca.cpp.o\u001b[0m\n",
      "[ 90%] \u001b[32mBuilding CXX object CMakeFiles/metnum.dir/src/eigen.cpp.o\u001b[0m\n",
      "[100%] \u001b[32m\u001b[1mLinking CXX shared module metnum.cpython-38-x86_64-linux-gnu.so\u001b[0m\n",
      "[100%] Built target metnum\n",
      "\u001b[36mInstall the project...\u001b[0m\n",
      "-- Install configuration: \"Release\"\n",
      "-- Installing: /home/fyulita/Documents/UBA/2020-1C/Metodos Numericos/Material/Laboratorio/tp02/notebooks/metnum.cpython-38-x86_64-linux-gnu.so\n"
     ]
    }
   ],
   "source": [
    "!cd .. && mkdir build\n",
    "!cd ../build/ && rm -rf *\n",
    "!cd ../build && cmake \\\n",
    "  -DPYTHON_EXECUTABLE=\"$(which python)\" \\\n",
    "  -DCMAKE_BUILD_TYPE=Release ..\n",
    "!cd ../build && make install"
   ]
  },
  {
   "cell_type": "code",
   "execution_count": 2,
   "metadata": {},
   "outputs": [
    {
     "name": "stdout",
     "output_type": "stream",
     "text": [
      "/home/fyulita/Documents/UBA/2020-1C/Metodos Numericos/Material/Laboratorio/tp02/notebooks\n",
      "Python 3.8.3\n"
     ]
    }
   ],
   "source": [
    "# Verifico la correcta instalación. Si no falla el import está OK\n",
    "!pwd\n",
    "!python --version\n",
    "import metnum"
   ]
  },
  {
   "cell_type": "markdown",
   "metadata": {},
   "source": [
    "## K-Fold Cross Validation"
   ]
  },
  {
   "cell_type": "code",
   "execution_count": 3,
   "metadata": {},
   "outputs": [
    {
     "data": {
      "text/plain": [
       "(42000, 785)"
      ]
     },
     "execution_count": 3,
     "metadata": {},
     "output_type": "execute_result"
    }
   ],
   "source": [
    "import pandas as pd\n",
    "\n",
    "df_train = pd.read_csv(\"../data/train.csv\")\n",
    "df_train.shape"
   ]
  },
  {
   "cell_type": "markdown",
   "metadata": {},
   "source": [
    "#### Primero usemos parte del conjunto de datos para hacer K-Fold Cross Validation con kNN y kNN+PCA. Luego, en base a los valores optimos que hallemos vamos a hacer kNN en el conjunto entero de datos."
   ]
  },
  {
   "cell_type": "code",
   "execution_count": 4,
   "metadata": {},
   "outputs": [
    {
     "data": {
      "text/plain": [
       "(1000, 785)"
      ]
     },
     "execution_count": 4,
     "metadata": {},
     "output_type": "execute_result"
    }
   ],
   "source": [
    "df_train_small = df_train.sample(1000)\n",
    "df_train_small.shape"
   ]
  },
  {
   "cell_type": "markdown",
   "metadata": {},
   "source": [
    "#### En el primer caracter está el dígito a reconocer. Llamamos a esto y_train."
   ]
  },
  {
   "cell_type": "code",
   "execution_count": 5,
   "metadata": {},
   "outputs": [
    {
     "name": "stdout",
     "output_type": "stream",
     "text": [
      "(1000, 784)\n",
      "(1000,)\n"
     ]
    }
   ],
   "source": [
    "# Uso values para mandar todo a arrays de numpy\n",
    "X_train = df_train_small[df_train_small.columns[1:]].values\n",
    "y_train = df_train_small[\"label\"].values\n",
    "\n",
    "print(X_train.shape)\n",
    "print(y_train.shape)"
   ]
  },
  {
   "cell_type": "markdown",
   "metadata": {},
   "source": [
    "#### Veamos una imagen del conjunto de datos."
   ]
  },
  {
   "cell_type": "code",
   "execution_count": 6,
   "metadata": {},
   "outputs": [
    {
     "name": "stdout",
     "output_type": "stream",
     "text": [
      "Supuestamente es un 6\n"
     ]
    },
    {
     "data": {
      "text/plain": [
       "<matplotlib.image.AxesImage at 0x7f5b496c67c0>"
      ]
     },
     "execution_count": 6,
     "metadata": {},
     "output_type": "execute_result"
    },
    {
     "data": {
      "image/png": "[encoded data removed]",
      "text/plain": [
       "<Figure size 432x288 with 1 Axes>"
      ]
     },
     "metadata": {
      "needs_background": "light"
     },
     "output_type": "display_data"
    }
   ],
   "source": [
    "import numpy as np\n",
    "import matplotlib.pyplot as plt\n",
    "\n",
    "num = np.random.randint(0, 1000)\n",
    "print(\"Supuestamente es un {}\".format(int(y_train[num])))\n",
    "\n",
    "img = X_train[num].reshape(28, 28)\n",
    "plt.imshow(img, cmap=\"Greys\")"
   ]
  },
  {
   "cell_type": "markdown",
   "metadata": {},
   "source": [
    "#### ¿Tenemos la misma cantidad de cada número?"
   ]
  },
  {
   "cell_type": "code",
   "execution_count": 7,
   "metadata": {},
   "outputs": [
    {
     "data": {
      "text/plain": [
       "1    0.111524\n",
       "7    0.104786\n",
       "3    0.103595\n",
       "9    0.099714\n",
       "2    0.099452\n",
       "6    0.098500\n",
       "0    0.098381\n",
       "4    0.096952\n",
       "8    0.096738\n",
       "5    0.090357\n",
       "Name: label, dtype: float64"
      ]
     },
     "execution_count": 7,
     "metadata": {},
     "output_type": "execute_result"
    }
   ],
   "source": [
    "df_train[\"label\"].value_counts(normalize=True)"
   ]
  },
  {
   "cell_type": "markdown",
   "metadata": {},
   "source": [
    "#### No: tenemos más 1 que 5, pero tampoco está tan desbalanceado."
   ]
  },
  {
   "cell_type": "markdown",
   "metadata": {},
   "source": [
    "#### Definamos dos funciones, una que haga kNN con cierto k y K-Fold Cross Validation con cierto K y con cierto conjunto de datos y guardemos los tiempos de ejecución y la exactitud; y otra que haga lo mismo pero con PCA."
   ]
  },
  {
   "cell_type": "code",
   "execution_count": 8,
   "metadata": {},
   "outputs": [],
   "source": [
    "# Dividimos el conjunto de datos en K subconjuntos. Utilizamos K-1 de esos subconjuntos para entrenar y\n",
    "# usamos el que queda como validacion.\n",
    "\n",
    "# Se hacen K distintas rondas de entrenamiento variando el subconjunto que se utiliza como validacion. Luego se testea\n",
    "# cada una de las rondas y se calcula la exactitud promedia entre todas ellas.\n",
    "from sklearn.model_selection import KFold\n",
    "from sklearn.metrics import accuracy_score\n",
    "from time import time\n",
    "\n",
    "def kNN_KFold(k, K, X, y):\n",
    "    # No confundir K de K-fold con k de kNN!!\n",
    "    kfold = KFold(n_splits=K)\n",
    "    kfold.get_n_splits(X)\n",
    "    \n",
    "    allAcc = []\n",
    "    kNNTimes = []\n",
    "    i = 1\n",
    "    for train_index, test_index in kfold.split(X):\n",
    "        # Separamos el conjunto de entrenamiento y el conjunto de test\n",
    "        X_train, X_test = X[train_index], X[test_index]\n",
    "        y_train, y_test = y[train_index], y[test_index]\n",
    "\n",
    "        # Inicializamos un nuevo clasificador cada iteracion.\n",
    "        kNN = metnum.KNNClassifier(k)\n",
    "        \n",
    "        kNNTime_start = time()\n",
    "        # Entreno a la maquina con los K-1 subsets asignados.\n",
    "        print(\"Ajustando conjunto de entrenamiento...\")\n",
    "        kNN.fit(X_train, y_train)\n",
    "\n",
    "        # Ahora hago la prediccion con los X_val que se usan para validar la iteracion de entrenamiento actual.\n",
    "        print(\"Prediciendo con el conjunto de test...\")\n",
    "        y_pred = kNN.predict(X_test)\n",
    "        \n",
    "        kNNTime_end = time()\n",
    "        kNNTime = kNNTime_end - kNNTime_start\n",
    "        kNNTimes.append(kNNTime)\n",
    "        \n",
    "        # Comparo las predicciones con los resultados esperados.\n",
    "        print(\"Comparando prediccion...\")\n",
    "        acc = accuracy_score(y_test, y_pred)\n",
    "        allAcc.append(acc)\n",
    "\n",
    "        print(f\"Ronda {i} terminada\\n\")\n",
    "        \n",
    "        i += 1\n",
    "\n",
    "    allAcc = np.asarray(allAcc)\n",
    "    kNNTimes = np.asarray(kNNTimes)\n",
    "    \n",
    "    meanAcc = np.mean(allAcc)\n",
    "    meanTime = np.mean(kNNTimes)\n",
    "    \n",
    "    stdAcc = np.std(allAcc)\n",
    "    stdTime = np.std(kNNTimes)\n",
    "    \n",
    "    return [meanAcc, meanTime, stdAcc, stdTime]"
   ]
  },
  {
   "cell_type": "markdown",
   "metadata": {},
   "source": [
    "## Estudio de k"
   ]
  },
  {
   "cell_type": "markdown",
   "metadata": {},
   "source": [
    "#### Veamos cómo el coeficiente k afecta los resultados. Esta celda va a llevar un tiempo en ejecutarse."
   ]
  },
  {
   "cell_type": "code",
   "execution_count": 9,
   "metadata": {},
   "outputs": [],
   "source": [
    "%%capture\n",
    "k_list = np.arange(1, 50)\n",
    "K = 20\n",
    "allAccs = []\n",
    "allTimes = []\n",
    "allAccsStd = []\n",
    "allTimesStd = []\n",
    "\n",
    "for k in k_list:\n",
    "    ans = kNN_KFold(int(k), K, X_train, y_train)\n",
    "    allAccs.append(ans[0])\n",
    "    allTimes.append(ans[1])\n",
    "    allAccsStd.append(ans[2])\n",
    "    allTimesStd.append(ans[3])\n",
    "\n",
    "allAccs = np.asarray(allAccs)\n",
    "allTimes = np.asarray(allTimes)\n",
    "allAccsStd = np.asarray(allAccsStd)\n",
    "allTimesStd = np.asarray(allTimesStd)"
   ]
  },
  {
   "cell_type": "markdown",
   "metadata": {},
   "source": [
    "#### Grafiquemos los resultados."
   ]
  },
  {
   "cell_type": "code",
   "execution_count": 10,
   "metadata": {},
   "outputs": [
    {
     "data": {
      "image/png": "[encoded data removed]",
      "text/plain": [
       "<Figure size 432x288 with 1 Axes>"
      ]
     },
     "metadata": {
      "needs_background": "light"
     },
     "output_type": "display_data"
    }
   ],
   "source": [
    "plt.figure(\"Accs with k\")\n",
    "plt.plot(k_list, allAccs)\n",
    "plt.grid()\n",
    "plt.xlabel(\"Vecinos\")\n",
    "plt.ylabel(\"Exactitud\")\n",
    "plt.show()"
   ]
  },
  {
   "cell_type": "markdown",
   "metadata": {},
   "source": [
    "#### Notemos que la exactitud de la predicción decrece a pertir de los 5 vecinos. Esto es raro, ya que uno esperaría que mientras más vecinos haya mejor sería la predicción ya que consideraría más imágenes. Sin embargo, mientras más imágenes consideramos mayor es la proporción de imágenes que no se parecen en nada a la verdadera y mayor es la probabilidad de que, por pura chance, hallan más imágenes distintas a la verdadera en el conjunto de vecinos que igual a la verdadera. De cierta forma esto nos dice que las diferencias entre las clases son altas. Un 1 está muy distinguido de un 8, por ejemplo."
   ]
  },
  {
   "cell_type": "code",
   "execution_count": 11,
   "metadata": {},
   "outputs": [
    {
     "data": {
      "text/plain": [
       "3"
      ]
     },
     "execution_count": 11,
     "metadata": {},
     "output_type": "execute_result"
    }
   ],
   "source": [
    "np.argmax(allAccs)"
   ]
  },
  {
   "cell_type": "code",
   "execution_count": 12,
   "metadata": {},
   "outputs": [
    {
     "data": {
      "image/png": "[encoded data removed]",
      "text/plain": [
       "<Figure size 432x288 with 1 Axes>"
      ]
     },
     "metadata": {
      "needs_background": "light"
     },
     "output_type": "display_data"
    }
   ],
   "source": [
    "plt.figure(\"times with k\")\n",
    "plt.plot(k_list, allTimes)\n",
    "plt.grid()\n",
    "plt.xlabel(\"Vecinos\")\n",
    "plt.ylabel(\"Tiempo de cómputo [s]\")\n",
    "plt.show()"
   ]
  },
  {
   "cell_type": "markdown",
   "metadata": {},
   "source": [
    "#### Notemos que el tiempo de cómputo se mantiene mas o menos constante. Esto se debe a que si la cantidad de vecinos incrementa la computadora solo tiene que chequear la distancia entre más vecinos, lo cual le lleva más tiempo pero no mucho más."
   ]
  },
  {
   "cell_type": "markdown",
   "metadata": {},
   "source": [
    "#### Con este análisis podemos concluir que la mejor cantidad de vecinos es de aproximadamente 3."
   ]
  },
  {
   "cell_type": "markdown",
   "metadata": {},
   "source": [
    "## Estudio de \\\\( \\alpha \\\\)"
   ]
  },
  {
   "cell_type": "markdown",
   "metadata": {},
   "source": [
    "#### Veamos cómo el coeficiente \\\\( \\alpha \\\\) afecta los resultados. Esta celda va a llevar un tiempo en ejecutarse."
   ]
  },
  {
   "cell_type": "code",
   "execution_count": 13,
   "metadata": {},
   "outputs": [],
   "source": [
    "%%capture\n",
    "k = 3\n",
    "K = 20\n",
    "alpha_list = np.arange(1, 100)\n",
    "allAccs = []\n",
    "allkNNTimes = []\n",
    "allPCATimes = []\n",
    "allAccsStd = []\n",
    "allkNNTimesStd = []\n",
    "\n",
    "for alpha in alpha_list:\n",
    "    PCATime_start = time()\n",
    "    pca = metnum.PCA(int(alpha))\n",
    "    pca.fit(X_train)\n",
    "    X_trans = pca.transform(X_train)\n",
    "    PCATime_end = time()\n",
    "    PCATime = PCATime_end - PCATime_start\n",
    "    allPCATimes.append(PCATime)\n",
    "    \n",
    "    ans = kNN_KFold(k, K, X_trans, y_train)\n",
    "    allAccs.append(ans[0])\n",
    "    allkNNTimes.append(ans[1])\n",
    "    allAccsStd.append(ans[2])\n",
    "    allkNNTimesStd.append(ans[3])\n",
    "\n",
    "allAccs = np.asarray(allAccs)\n",
    "allkNNTimes = np.asarray(allkNNTimes)\n",
    "allPCATimes = np.asarray(allPCATimes)\n",
    "allAccsStd = np.asarray(allAccsStd)\n",
    "allkNNTimesStd = np.asarray(allkNNTimesStd)"
   ]
  },
  {
   "cell_type": "markdown",
   "metadata": {},
   "source": [
    "#### Grafiquemos los resultados."
   ]
  },
  {
   "cell_type": "code",
   "execution_count": 14,
   "metadata": {},
   "outputs": [
    {
     "data": {
      "image/png": "[encoded data removed]",
      "text/plain": [
       "<Figure size 432x288 with 1 Axes>"
      ]
     },
     "metadata": {
      "needs_background": "light"
     },
     "output_type": "display_data"
    }
   ],
   "source": [
    "plt.figure(\"Accs with alpha\")\n",
    "plt.plot(alpha_list, allAccs)\n",
    "plt.grid()\n",
    "plt.xlabel(r\"Coeficiente $\\alpha$\")\n",
    "plt.ylabel(\"Exactitud\")\n",
    "plt.show()"
   ]
  },
  {
   "cell_type": "markdown",
   "metadata": {},
   "source": [
    "#### Notemos que la exactitud incrementa. Esto es razonable, ya que a medida que \\\\( \\alpha \\\\) incrementa estamos tomando más dimensiones relevantes del sistema. Sin embargo, notemos que a partir de \\\\( \\alpha \\\\) = 20 la exactitud es mas o menos constante. Esto se debe a que las nuevas dimensiones son cada vez menos relevantes. "
   ]
  },
  {
   "cell_type": "code",
   "execution_count": 15,
   "metadata": {},
   "outputs": [
    {
     "data": {
      "image/png": "[encoded data removed]",
      "text/plain": [
       "<Figure size 432x288 with 1 Axes>"
      ]
     },
     "metadata": {
      "needs_background": "light"
     },
     "output_type": "display_data"
    }
   ],
   "source": [
    "plt.figure(\"kNNTimes with alpha\")\n",
    "plt.plot(alpha_list, allkNNTimes)\n",
    "plt.grid()\n",
    "plt.xlabel(r\"Coeficiente $\\alpha$\")\n",
    "plt.ylabel(\"Tiempo de cómputo de kNN [s]\")\n",
    "plt.show()"
   ]
  },
  {
   "cell_type": "markdown",
   "metadata": {},
   "source": [
    "#### Notemos que el tiempo de cómputo de kNN incrementa linealmente."
   ]
  },
  {
   "cell_type": "code",
   "execution_count": 16,
   "metadata": {},
   "outputs": [
    {
     "data": {
      "image/png": "[encoded data removed]",
      "text/plain": [
       "<Figure size 432x288 with 1 Axes>"
      ]
     },
     "metadata": {
      "needs_background": "light"
     },
     "output_type": "display_data"
    }
   ],
   "source": [
    "plt.figure(\"PCATimes with alpha\")\n",
    "plt.plot(alpha_list, allPCATimes)\n",
    "plt.grid()\n",
    "plt.xlabel(r\"Coeficiente $\\alpha$\")\n",
    "plt.ylabel(\"Tiempo de cómputo de PCA [s]\")\n",
    "plt.show()"
   ]
  },
  {
   "cell_type": "markdown",
   "metadata": {},
   "source": [
    "#### Notemos que el tiempo de cómputo de PCA incrementa. Esto es esperable, ya que cada vez hay que calcular más autovalores. Debido a que el tiempo de cómputo de los primeros autovalores es menor al tiempo de cómputo de los últimos autovalores el gráfico incrementa cada vez más rápidamente."
   ]
  },
  {
   "cell_type": "markdown",
   "metadata": {},
   "source": [
    "#### Con este análisis podemos concluir que el mejor valor de \\\\( \\alpha \\\\) es de aproximadamente 20."
   ]
  },
  {
   "cell_type": "markdown",
   "metadata": {},
   "source": [
    "## Estudio de K"
   ]
  },
  {
   "cell_type": "markdown",
   "metadata": {},
   "source": [
    "#### Veamos cómo el coeficiente K afecta los resultados. Esta celda va a llevar un tiempo en ejecutarse."
   ]
  },
  {
   "cell_type": "code",
   "execution_count": 17,
   "metadata": {},
   "outputs": [],
   "source": [
    "%%capture\n",
    "k = 3\n",
    "K_list = np.arange(2, 50)\n",
    "allAccs = []\n",
    "allTimes = []\n",
    "allAccsStd = []\n",
    "allTimesStd = []\n",
    "\n",
    "for K in K_list:\n",
    "    ans = kNN_KFold(k, int(K), X_train, y_train)\n",
    "    allAccs.append(ans[0])\n",
    "    allTimes.append(ans[1])\n",
    "    allAccsStd.append(ans[2])\n",
    "    allTimesStd.append(ans[3])\n",
    "\n",
    "allAccs = np.asarray(allAccs)\n",
    "allTimes = np.asarray(allTimes)\n",
    "allAccsStd = np.asarray(allAccsStd)\n",
    "allTimesStd = np.asarray(allTimesStd)"
   ]
  },
  {
   "cell_type": "markdown",
   "metadata": {},
   "source": [
    "#### Grafiquemos los resultados."
   ]
  },
  {
   "cell_type": "code",
   "execution_count": 18,
   "metadata": {},
   "outputs": [
    {
     "data": {
      "image/png": "[encoded data removed]",
      "text/plain": [
       "<Figure size 432x288 with 1 Axes>"
      ]
     },
     "metadata": {
      "needs_background": "light"
     },
     "output_type": "display_data"
    }
   ],
   "source": [
    "plt.figure(\"Accs with K\")\n",
    "plt.plot(K_list, allAccs)\n",
    "plt.grid()\n",
    "plt.xlabel(r\"Coeficiente K\")\n",
    "plt.ylabel(\"Exactitud\")\n",
    "plt.show()"
   ]
  },
  {
   "cell_type": "markdown",
   "metadata": {},
   "source": [
    "#### Notemos que la exactitud incrementa, lo cual es razonable ya que el conjunto de entrenamiento es más grande para mayores valores de K. Sin embargo, el conjunto de entrenamiento cada vez crece menos y podemos ver que a partir de K = 20 la exactitud no crece mucho más."
   ]
  },
  {
   "cell_type": "code",
   "execution_count": 19,
   "metadata": {},
   "outputs": [
    {
     "data": {
      "image/png": "[encoded data removed]",
      "text/plain": [
       "<Figure size 432x288 with 1 Axes>"
      ]
     },
     "metadata": {
      "needs_background": "light"
     },
     "output_type": "display_data"
    }
   ],
   "source": [
    "plt.figure(\"times with K\")\n",
    "plt.plot(K_list, allTimes)\n",
    "plt.grid()\n",
    "plt.xlabel(r\"Coeficiente K\")\n",
    "plt.ylabel(\"Tiempo de cómputo de kNN [s]\")\n",
    "plt.show()"
   ]
  },
  {
   "cell_type": "markdown",
   "metadata": {},
   "source": [
    "#### Notemos que el tiempo de cómpute de kNN decrece. Esto sucede porque cada vez hay que ajustar menos valores porque el conjunto de test es más pequeño. Sin embargo, el tiempo de cómputo total incrementa ya que cada vez hay más rondas."
   ]
  },
  {
   "cell_type": "markdown",
   "metadata": {},
   "source": [
    "#### Con este análisis podemos concluir que el mejor valor de K es de aproximadamente 20."
   ]
  },
  {
   "cell_type": "markdown",
   "metadata": {},
   "source": [
    "## kNN sin PCA"
   ]
  },
  {
   "cell_type": "markdown",
   "metadata": {},
   "source": [
    "#### Tomemos el conjunto completo de datos y hagamos kNN sin PCA usando los coeficientes óptimos que calculamos."
   ]
  },
  {
   "cell_type": "code",
   "execution_count": 20,
   "metadata": {},
   "outputs": [
    {
     "name": "stdout",
     "output_type": "stream",
     "text": [
      "(42000, 784)\n",
      "(42000,)\n"
     ]
    }
   ],
   "source": [
    "X_train = df_train[df_train.columns[1:]].values\n",
    "y_train = df_train[\"label\"].values\n",
    "\n",
    "print(X_train.shape)\n",
    "print(y_train.shape)"
   ]
  },
  {
   "cell_type": "code",
   "execution_count": 21,
   "metadata": {},
   "outputs": [
    {
     "name": "stdout",
     "output_type": "stream",
     "text": [
      "Ajustando conjunto de entrenamiento...\n",
      "Prediciendo con el conjunto de test...\n",
      "Comparando prediccion...\n",
      "Ronda 1 terminada\n",
      "\n",
      "Ajustando conjunto de entrenamiento...\n",
      "Prediciendo con el conjunto de test...\n",
      "Comparando prediccion...\n",
      "Ronda 2 terminada\n",
      "\n",
      "Ajustando conjunto de entrenamiento...\n",
      "Prediciendo con el conjunto de test...\n",
      "Comparando prediccion...\n",
      "Ronda 3 terminada\n",
      "\n",
      "Ajustando conjunto de entrenamiento...\n",
      "Prediciendo con el conjunto de test...\n",
      "Comparando prediccion...\n",
      "Ronda 4 terminada\n",
      "\n",
      "Ajustando conjunto de entrenamiento...\n",
      "Prediciendo con el conjunto de test...\n",
      "Comparando prediccion...\n",
      "Ronda 5 terminada\n",
      "\n",
      "Ajustando conjunto de entrenamiento...\n",
      "Prediciendo con el conjunto de test...\n",
      "Comparando prediccion...\n",
      "Ronda 6 terminada\n",
      "\n",
      "Ajustando conjunto de entrenamiento...\n",
      "Prediciendo con el conjunto de test...\n",
      "Comparando prediccion...\n",
      "Ronda 7 terminada\n",
      "\n",
      "Ajustando conjunto de entrenamiento...\n",
      "Prediciendo con el conjunto de test...\n",
      "Comparando prediccion...\n",
      "Ronda 8 terminada\n",
      "\n",
      "Ajustando conjunto de entrenamiento...\n",
      "Prediciendo con el conjunto de test...\n",
      "Comparando prediccion...\n",
      "Ronda 9 terminada\n",
      "\n",
      "Ajustando conjunto de entrenamiento...\n",
      "Prediciendo con el conjunto de test...\n",
      "Comparando prediccion...\n",
      "Ronda 10 terminada\n",
      "\n",
      "Ajustando conjunto de entrenamiento...\n",
      "Prediciendo con el conjunto de test...\n",
      "Comparando prediccion...\n",
      "Ronda 11 terminada\n",
      "\n",
      "Ajustando conjunto de entrenamiento...\n",
      "Prediciendo con el conjunto de test...\n",
      "Comparando prediccion...\n",
      "Ronda 12 terminada\n",
      "\n",
      "Ajustando conjunto de entrenamiento...\n",
      "Prediciendo con el conjunto de test...\n",
      "Comparando prediccion...\n",
      "Ronda 13 terminada\n",
      "\n",
      "Ajustando conjunto de entrenamiento...\n",
      "Prediciendo con el conjunto de test...\n",
      "Comparando prediccion...\n",
      "Ronda 14 terminada\n",
      "\n",
      "Ajustando conjunto de entrenamiento...\n",
      "Prediciendo con el conjunto de test...\n",
      "Comparando prediccion...\n",
      "Ronda 15 terminada\n",
      "\n",
      "Ajustando conjunto de entrenamiento...\n",
      "Prediciendo con el conjunto de test...\n",
      "Comparando prediccion...\n",
      "Ronda 16 terminada\n",
      "\n",
      "Ajustando conjunto de entrenamiento...\n",
      "Prediciendo con el conjunto de test...\n",
      "Comparando prediccion...\n",
      "Ronda 17 terminada\n",
      "\n",
      "Ajustando conjunto de entrenamiento...\n",
      "Prediciendo con el conjunto de test...\n",
      "Comparando prediccion...\n",
      "Ronda 18 terminada\n",
      "\n",
      "Ajustando conjunto de entrenamiento...\n",
      "Prediciendo con el conjunto de test...\n",
      "Comparando prediccion...\n",
      "Ronda 19 terminada\n",
      "\n",
      "Ajustando conjunto de entrenamiento...\n",
      "Prediciendo con el conjunto de test...\n",
      "Comparando prediccion...\n",
      "Ronda 20 terminada\n",
      "\n",
      "CPU times: user 1h 1min 51s, sys: 1h 31min 20s, total: 2h 33min 12s\n",
      "Wall time: 2h 32min 59s\n"
     ]
    }
   ],
   "source": [
    "%%time\n",
    "\n",
    "k = 3\n",
    "K = 20\n",
    "[acc_kNN, time_kNN, acc_std_kNN, time_std_kNN] = kNN_KFold(k, K, X_train, y_train)"
   ]
  },
  {
   "cell_type": "markdown",
   "metadata": {},
   "source": [
    "## kNN con PCA"
   ]
  },
  {
   "cell_type": "markdown",
   "metadata": {},
   "source": [
    "#### Tomemos el conjunto completo de datos y hagamos kNN sin PCA usando los coeficientes óptimos que calculamos."
   ]
  },
  {
   "cell_type": "code",
   "execution_count": 22,
   "metadata": {},
   "outputs": [
    {
     "name": "stdout",
     "output_type": "stream",
     "text": [
      "Ajustando conjunto de entrenamiento...\n",
      "Prediciendo con el conjunto de test...\n",
      "Comparando prediccion...\n",
      "Ronda 1 terminada\n",
      "\n",
      "Ajustando conjunto de entrenamiento...\n",
      "Prediciendo con el conjunto de test...\n",
      "Comparando prediccion...\n",
      "Ronda 2 terminada\n",
      "\n",
      "Ajustando conjunto de entrenamiento...\n",
      "Prediciendo con el conjunto de test...\n",
      "Comparando prediccion...\n",
      "Ronda 3 terminada\n",
      "\n",
      "Ajustando conjunto de entrenamiento...\n",
      "Prediciendo con el conjunto de test...\n",
      "Comparando prediccion...\n",
      "Ronda 4 terminada\n",
      "\n",
      "Ajustando conjunto de entrenamiento...\n",
      "Prediciendo con el conjunto de test...\n",
      "Comparando prediccion...\n",
      "Ronda 5 terminada\n",
      "\n",
      "Ajustando conjunto de entrenamiento...\n",
      "Prediciendo con el conjunto de test...\n",
      "Comparando prediccion...\n",
      "Ronda 6 terminada\n",
      "\n",
      "Ajustando conjunto de entrenamiento...\n",
      "Prediciendo con el conjunto de test...\n",
      "Comparando prediccion...\n",
      "Ronda 7 terminada\n",
      "\n",
      "Ajustando conjunto de entrenamiento...\n",
      "Prediciendo con el conjunto de test...\n",
      "Comparando prediccion...\n",
      "Ronda 8 terminada\n",
      "\n",
      "Ajustando conjunto de entrenamiento...\n",
      "Prediciendo con el conjunto de test...\n",
      "Comparando prediccion...\n",
      "Ronda 9 terminada\n",
      "\n",
      "Ajustando conjunto de entrenamiento...\n",
      "Prediciendo con el conjunto de test...\n",
      "Comparando prediccion...\n",
      "Ronda 10 terminada\n",
      "\n",
      "Ajustando conjunto de entrenamiento...\n",
      "Prediciendo con el conjunto de test...\n",
      "Comparando prediccion...\n",
      "Ronda 11 terminada\n",
      "\n",
      "Ajustando conjunto de entrenamiento...\n",
      "Prediciendo con el conjunto de test...\n",
      "Comparando prediccion...\n",
      "Ronda 12 terminada\n",
      "\n",
      "Ajustando conjunto de entrenamiento...\n",
      "Prediciendo con el conjunto de test...\n",
      "Comparando prediccion...\n",
      "Ronda 13 terminada\n",
      "\n",
      "Ajustando conjunto de entrenamiento...\n",
      "Prediciendo con el conjunto de test...\n",
      "Comparando prediccion...\n",
      "Ronda 14 terminada\n",
      "\n",
      "Ajustando conjunto de entrenamiento...\n",
      "Prediciendo con el conjunto de test...\n",
      "Comparando prediccion...\n",
      "Ronda 15 terminada\n",
      "\n",
      "Ajustando conjunto de entrenamiento...\n",
      "Prediciendo con el conjunto de test...\n",
      "Comparando prediccion...\n",
      "Ronda 16 terminada\n",
      "\n",
      "Ajustando conjunto de entrenamiento...\n",
      "Prediciendo con el conjunto de test...\n",
      "Comparando prediccion...\n",
      "Ronda 17 terminada\n",
      "\n",
      "Ajustando conjunto de entrenamiento...\n",
      "Prediciendo con el conjunto de test...\n",
      "Comparando prediccion...\n",
      "Ronda 18 terminada\n",
      "\n",
      "Ajustando conjunto de entrenamiento...\n",
      "Prediciendo con el conjunto de test...\n",
      "Comparando prediccion...\n",
      "Ronda 19 terminada\n",
      "\n",
      "Ajustando conjunto de entrenamiento...\n",
      "Prediciendo con el conjunto de test...\n",
      "Comparando prediccion...\n",
      "Ronda 20 terminada\n",
      "\n",
      "CPU times: user 2min 57s, sys: 685 ms, total: 2min 57s\n",
      "Wall time: 2min 57s\n"
     ]
    }
   ],
   "source": [
    "%%time\n",
    "\n",
    "k = 3\n",
    "K = 20\n",
    "alpha = 20\n",
    "\n",
    "pcaTime_start = time()\n",
    "pca = metnum.PCA(alpha)\n",
    "pca.fit(X_train)\n",
    "X_trans = pca.transform(X_train)\n",
    "pcaTime_end = time()\n",
    "pcaTime = pcaTime_end - pcaTime_start\n",
    "\n",
    "[acc_PCA, time_PCA, acc_std_PCA, time_std_PCA] = kNN_KFold(k, K, X_trans, y_train)"
   ]
  },
  {
   "cell_type": "code",
   "execution_count": 23,
   "metadata": {},
   "outputs": [
    {
     "name": "stdout",
     "output_type": "stream",
     "text": [
      "[0.969904761904762, 458.8831094622612, 0.002956985656430477, 2.5894718918339876]\n",
      "[0.9698095238095238, 8.604268825054168, 0.0037628088124073158, 0.0413835082637409]\n",
      "5.445347547531128\n"
     ]
    }
   ],
   "source": [
    "print([acc_kNN, time_kNN, acc_std_kNN, time_std_kNN])\n",
    "print([acc_PCA, time_PCA, acc_std_PCA, time_std_PCA])\n",
    "print(pcaTime)"
   ]
  },
  {
   "cell_type": "markdown",
   "metadata": {},
   "source": [
    "#### Notemos que la exactitud de ambos algoritmos es prácticamente la misma mientras que el tiempo de cómputo de kNN con PCA es dos órdenes de magnitud menor que el tiempo de cómputo de kNN sin PCA."
   ]
  },
  {
   "cell_type": "code",
   "execution_count": null,
   "metadata": {},
   "outputs": [],
   "source": []
  }
 ],
 "metadata": {
  "kernelspec": {
   "display_name": "Python 3",
   "language": "python",
   "name": "python3"
  },
  "language_info": {
   "codemirror_mode": {
    "name": "ipython",
    "version": 3
   },
   "file_extension": ".py",
   "mimetype": "text/x-python",
   "name": "python",
   "nbconvert_exporter": "python",
   "pygments_lexer": "ipython3",
   "version": "3.8.3"
  }
 },
 "nbformat": 4,
 "nbformat_minor": 4
}
