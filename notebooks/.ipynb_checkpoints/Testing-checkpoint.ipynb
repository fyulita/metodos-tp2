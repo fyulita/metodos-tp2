{
 "cells": [
  {
   "cell_type": "markdown",
   "metadata": {},
   "source": [
    "# Compilamos el código de C++"
   ]
  },
  {
   "cell_type": "code",
   "execution_count": 1,
   "metadata": {},
   "outputs": [
    {
     "name": "stdout",
     "output_type": "stream",
     "text": [
      "-- The C compiler identification is GNU 10.1.0\n",
      "-- The CXX compiler identification is GNU 10.1.0\n",
      "-- Check for working C compiler: /usr/bin/cc\n",
      "-- Check for working C compiler: /usr/bin/cc - works\n",
      "-- Detecting C compiler ABI info\n",
      "-- Detecting C compiler ABI info - done\n",
      "-- Detecting C compile features\n",
      "-- Detecting C compile features - done\n",
      "-- Check for working CXX compiler: /usr/bin/c++\n",
      "-- Check for working CXX compiler: /usr/bin/c++ - works\n",
      "-- Detecting CXX compiler ABI info\n",
      "-- Detecting CXX compiler ABI info - done\n",
      "-- Detecting CXX compile features\n",
      "-- Detecting CXX compile features - done\n",
      "Release mode\n",
      "-- Found PythonInterp: /home/fyulita/.virtualenvs/scienv/bin/python (found version \"3.8.3\") \n",
      "-- Found PythonLibs: /usr/lib/libpython3.8.so\n",
      "-- pybind11 v2.2.4\n",
      "-- Performing Test HAS_FLTO\n",
      "-- Performing Test HAS_FLTO - Success\n",
      "-- LTO enabled\n",
      "CMAKE_INSTALL_PREFIX=/home/fyulita/Documents/UBA/2020-1C/Metodos Numericos/Material/Laboratorio/tp02\n",
      "-- Configuring done\n",
      "-- Generating done\n",
      "-- Build files have been written to: /home/fyulita/Documents/UBA/2020-1C/Metodos Numericos/Material/Laboratorio/tp02/build\n",
      "\u001b[35m\u001b[1mScanning dependencies of target tp2\u001b[0m\n",
      "[ 10%] \u001b[32mBuilding CXX object CMakeFiles/tp2.dir/src/main.cpp.o\u001b[0m\n",
      "[ 20%] \u001b[32mBuilding CXX object CMakeFiles/tp2.dir/src/knn.cpp.o\u001b[0m\n",
      "[ 30%] \u001b[32mBuilding CXX object CMakeFiles/tp2.dir/src/pca.cpp.o\u001b[0m\n",
      "[ 40%] \u001b[32mBuilding CXX object CMakeFiles/tp2.dir/src/eigen.cpp.o\u001b[0m\n",
      "[ 50%] \u001b[32m\u001b[1mLinking CXX executable tp2\u001b[0m\n",
      "[ 50%] Built target tp2\n",
      "\u001b[35m\u001b[1mScanning dependencies of target metnum\u001b[0m\n",
      "[ 60%] \u001b[32mBuilding CXX object CMakeFiles/metnum.dir/src/metnum.cpp.o\u001b[0m\n",
      "[ 70%] \u001b[32mBuilding CXX object CMakeFiles/metnum.dir/src/knn.cpp.o\u001b[0m\n",
      "[ 80%] \u001b[32mBuilding CXX object CMakeFiles/metnum.dir/src/pca.cpp.o\u001b[0m\n",
      "[ 90%] \u001b[32mBuilding CXX object CMakeFiles/metnum.dir/src/eigen.cpp.o\u001b[0m\n",
      "[100%] \u001b[32m\u001b[1mLinking CXX shared module metnum.cpython-38-x86_64-linux-gnu.so\u001b[0m\n",
      "[100%] Built target metnum\n",
      "\u001b[36mInstall the project...\u001b[0m\n",
      "-- Install configuration: \"Release\"\n",
      "-- Installing: /home/fyulita/Documents/UBA/2020-1C/Metodos Numericos/Material/Laboratorio/tp02/notebooks/metnum.cpython-38-x86_64-linux-gnu.so\n"
     ]
    }
   ],
   "source": [
    "!cd .. && mkdir build\n",
    "!cd ../build/ && rm -rf *\n",
    "!cd ../build && cmake \\\n",
    "  -DPYTHON_EXECUTABLE=\"$(which python)\" \\\n",
    "  -DCMAKE_BUILD_TYPE=Release ..\n",
    "!cd ../build && make install"
   ]
  },
  {
   "cell_type": "code",
   "execution_count": 2,
   "metadata": {},
   "outputs": [
    {
     "name": "stdout",
     "output_type": "stream",
     "text": [
      "/home/fyulita/Documents/UBA/2020-1C/Metodos Numericos/Material/Laboratorio/tp02/notebooks\n",
      "Python 3.8.3\n"
     ]
    }
   ],
   "source": [
    "!pwd\n",
    "!python --version\n",
    "import metnum"
   ]
  },
  {
   "cell_type": "markdown",
   "metadata": {},
   "source": [
    "# Testeamos el cálculo de autovalores y autovectores\n",
    "\n",
    "*Obs.: Por lo visto hay un tema con los signos de los autovectores.*"
   ]
  },
  {
   "cell_type": "code",
   "execution_count": 3,
   "metadata": {},
   "outputs": [],
   "source": [
    "import numpy as np"
   ]
  },
  {
   "cell_type": "code",
   "execution_count": 4,
   "metadata": {},
   "outputs": [
    {
     "name": "stdout",
     "output_type": "stream",
     "text": [
      "[2. 1.]\n",
      "[[-1.00000000e+00  2.15704298e-16]\n",
      " [ 1.07852149e-16  1.00000000e+00]]\n"
     ]
    },
    {
     "ename": "AssertionError",
     "evalue": "",
     "output_type": "error",
     "traceback": [
      "\u001b[0;31m---------------------------------------------------------------------------\u001b[0m",
      "\u001b[0;31mAssertionError\u001b[0m                            Traceback (most recent call last)",
      "\u001b[0;32m<ipython-input-4-720737a6cfda>\u001b[0m in \u001b[0;36m<module>\u001b[0;34m\u001b[0m\n\u001b[1;32m     15\u001b[0m \u001b[0;34m\u001b[0m\u001b[0m\n\u001b[1;32m     16\u001b[0m \u001b[0;32massert\u001b[0m \u001b[0mnp\u001b[0m\u001b[0;34m.\u001b[0m\u001b[0mallclose\u001b[0m\u001b[0;34m(\u001b[0m\u001b[0mlambdas_exp\u001b[0m\u001b[0;34m,\u001b[0m \u001b[0mlambdas\u001b[0m\u001b[0;34m)\u001b[0m\u001b[0;34m\u001b[0m\u001b[0;34m\u001b[0m\u001b[0m\n\u001b[0;32m---> 17\u001b[0;31m \u001b[0;32massert\u001b[0m \u001b[0mnp\u001b[0m\u001b[0;34m.\u001b[0m\u001b[0mallclose\u001b[0m\u001b[0;34m(\u001b[0m\u001b[0mV_exp\u001b[0m\u001b[0;34m,\u001b[0m \u001b[0mV\u001b[0m\u001b[0;34m)\u001b[0m\u001b[0;34m\u001b[0m\u001b[0;34m\u001b[0m\u001b[0m\n\u001b[0m",
      "\u001b[0;31mAssertionError\u001b[0m: "
     ]
    }
   ],
   "source": [
    "A = np.array([\n",
    "    [2, 0],\n",
    "    [0, 1]\n",
    "])\n",
    "lambdas_exp = np.array([2, 1])\n",
    "V_exp = np.array([\n",
    "    [1, 0],\n",
    "    [0, 1]\n",
    "])\n",
    "\n",
    "lambdas, V = metnum.get_first_eigenvalues(A, 2)\n",
    "\n",
    "print(lambdas)\n",
    "print(V)\n",
    "\n",
    "assert np.allclose(lambdas_exp, lambdas)\n",
    "assert np.allclose(V_exp, V)"
   ]
  },
  {
   "cell_type": "code",
   "execution_count": 5,
   "metadata": {},
   "outputs": [
    {
     "name": "stdout",
     "output_type": "stream",
     "text": [
      "[2.61803399 0.38196601]\n",
      "[[-0.85065081 -0.52573111]\n",
      " [-0.52573111  0.85065081]]\n"
     ]
    },
    {
     "ename": "AssertionError",
     "evalue": "",
     "output_type": "error",
     "traceback": [
      "\u001b[0;31m---------------------------------------------------------------------------\u001b[0m",
      "\u001b[0;31mAssertionError\u001b[0m                            Traceback (most recent call last)",
      "\u001b[0;32m<ipython-input-5-17ced8b355f8>\u001b[0m in \u001b[0;36m<module>\u001b[0;34m\u001b[0m\n\u001b[1;32m     15\u001b[0m \u001b[0;34m\u001b[0m\u001b[0m\n\u001b[1;32m     16\u001b[0m \u001b[0;32massert\u001b[0m \u001b[0mnp\u001b[0m\u001b[0;34m.\u001b[0m\u001b[0mallclose\u001b[0m\u001b[0;34m(\u001b[0m\u001b[0mlambdas_exp\u001b[0m\u001b[0;34m,\u001b[0m \u001b[0mlambdas\u001b[0m\u001b[0;34m)\u001b[0m\u001b[0;34m\u001b[0m\u001b[0;34m\u001b[0m\u001b[0m\n\u001b[0;32m---> 17\u001b[0;31m \u001b[0;32massert\u001b[0m \u001b[0mnp\u001b[0m\u001b[0;34m.\u001b[0m\u001b[0mallclose\u001b[0m\u001b[0;34m(\u001b[0m\u001b[0mV_exp\u001b[0m\u001b[0;34m,\u001b[0m \u001b[0mV\u001b[0m\u001b[0;34m)\u001b[0m\u001b[0;34m\u001b[0m\u001b[0;34m\u001b[0m\u001b[0m\n\u001b[0m",
      "\u001b[0;31mAssertionError\u001b[0m: "
     ]
    }
   ],
   "source": [
    "B = np.array([\n",
    "    [2, 1],\n",
    "    [1, 1]\n",
    "])\n",
    "lambdas_exp = np.array([(3 + np.sqrt(5)) / 2, (3 - np.sqrt(5)) / 2])\n",
    "V_exp = np.array([\n",
    "    [(1 + np.sqrt(5)) / (2 * np.sqrt(1 + ((1 + np.sqrt(5)) / 2) ** 2)), (1 - np.sqrt(5)) / (2 * np.sqrt(1 + ((1 - np.sqrt(5)) / 2) ** 2))],\n",
    "    [1 / np.sqrt(1 + ((1 + np.sqrt(5)) / 2) ** 2), 1 / np.sqrt(1 + ((1 - np.sqrt(5)) / 2) ** 2)]\n",
    "])\n",
    "\n",
    "lambdas, V = metnum.get_first_eigenvalues(B, 2)\n",
    "\n",
    "print(lambdas)\n",
    "print(V)\n",
    "\n",
    "assert np.allclose(lambdas_exp, lambdas)\n",
    "assert np.allclose(V_exp, V)"
   ]
  },
  {
   "cell_type": "markdown",
   "metadata": {},
   "source": [
    "# Testeamos PCA"
   ]
  },
  {
   "cell_type": "markdown",
   "metadata": {},
   "source": [
    "## Cálculo de Covarianza"
   ]
  },
  {
   "cell_type": "code",
   "execution_count": 6,
   "metadata": {},
   "outputs": [],
   "source": [
    "import numpy as np\n",
    "\n",
    "alpha = 30\n",
    "pca = metnum.PCA(alpha)"
   ]
  },
  {
   "cell_type": "code",
   "execution_count": 7,
   "metadata": {},
   "outputs": [
    {
     "name": "stdout",
     "output_type": "stream",
     "text": [
      "[[ 4.32367885e-002 -3.26779251e-001 -9.44111170e-001  4.19117919e-002\n",
      "   4.24896455e-322  6.92690433e-310  6.92690431e-310  6.92690430e-310\n",
      "   6.92690280e-310  6.92689816e-310  6.92689816e-310  6.92689859e-310\n",
      "   6.92689772e-310  6.92690432e-310  6.92690431e-310  6.92690433e-310\n",
      "   6.92689772e-310  6.92690356e-310  6.92690373e-310  6.92690432e-310\n",
      "   6.92690434e-310  6.92690431e-310  6.92689772e-310  6.92689772e-310\n",
      "   6.92690423e-310  6.92690432e-310  6.92690433e-310  6.92689816e-310\n",
      "   6.92690422e-310  6.92690418e-310]\n",
      " [ 9.84059144e-001  1.77099195e-001 -1.62319712e-002  9.84770867e-001\n",
      "   6.92690405e-310  6.92689772e-310  6.92689772e-310  6.92689772e-310\n",
      "   6.92689772e-310  6.92690432e-310  6.92690432e-310  6.92690432e-310\n",
      "   6.92690432e-310  6.92690432e-310  6.92690434e-310  6.92690432e-310\n",
      "   6.92690375e-310  6.92690375e-310  6.92690432e-310  6.92690431e-310\n",
      "   6.92690434e-310  6.92690434e-310  6.92689772e-310  6.92689772e-310\n",
      "   6.92690433e-310  6.92690433e-310  6.92689772e-310  6.92690427e-310\n",
      "   6.92689772e-310  6.92689772e-310]\n",
      " [ 1.72505600e-001 -9.28359411e-001  3.29227311e-001  1.68729786e-001\n",
      "   6.92689772e-310  6.92689772e-310  6.92689772e-310  6.92690433e-310\n",
      "   6.92690422e-310  6.92690432e-310  6.92689772e-310  6.92690431e-310\n",
      "   6.92690430e-310  6.92690430e-310  6.92690397e-310  6.92690432e-310\n",
      "   6.92690433e-310  6.92690427e-310  6.92690432e-310  6.92690432e-310\n",
      "   6.92690431e-310  6.92690432e-310  6.92690433e-310  6.92689772e-310\n",
      "   6.92690430e-310  6.92690433e-310  6.92690433e-310  6.92689772e-310\n",
      "   6.92690432e-310  6.92689772e-310]]\n"
     ]
    }
   ],
   "source": [
    "A = np.array([\n",
    "    [64, 580, 29],\n",
    "    [66, 570, 33],\n",
    "    [68, 590, 37],\n",
    "    [69, 660, 46],\n",
    "    [73, 600, 55]\n",
    "])\n",
    "\n",
    "A_expected = np.array([\n",
    "    [11.5, 50, 34.75],\n",
    "    [50, 1250, 205],\n",
    "    [34.75, 205, 110]\n",
    "])\n",
    "\n",
    "pca.fit(A)\n",
    "ans = pca.transform(np.eye(3))\n",
    "\n",
    "print(ans)"
   ]
  },
  {
   "cell_type": "markdown",
   "metadata": {},
   "source": []
  }
 ],
 "metadata": {
  "kernelspec": {
   "display_name": "Python 3",
   "language": "python",
   "name": "python3"
  },
  "language_info": {
   "codemirror_mode": {
    "name": "ipython",
    "version": 3
   },
   "file_extension": ".py",
   "mimetype": "text/x-python",
   "name": "python",
   "nbconvert_exporter": "python",
   "pygments_lexer": "ipython3",
   "version": "3.8.3"
  }
 },
 "nbformat": 4,
 "nbformat_minor": 4
}
