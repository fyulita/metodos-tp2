{
 "cells": [
  {
   "cell_type": "code",
   "execution_count": 2,
   "metadata": {},
   "outputs": [],
   "source": [
    "import numpy as np"
   ]
  },
  {
   "cell_type": "code",
   "execution_count": 3,
   "metadata": {},
   "outputs": [],
   "source": [
    "valores = np.random.randint(low=0, high=255, size=(100,))\n"
   ]
  },
  {
   "cell_type": "code",
   "execution_count": 17,
   "metadata": {},
   "outputs": [
    {
     "data": {
      "text/plain": [
       "array([232,  96, 202,  67, 252, 139, 135,  41,  49, 145, 146, 219, 189,\n",
       "       219, 238,  86, 201, 183,  51, 120,  63,  24, 141, 195, 222,  42,\n",
       "        17, 138,  26, 252, 162,  94,  76,  17, 218, 115, 147,  93, 158,\n",
       "       119,  98,  80,  70,  80,  42,  82, 140, 157, 177,  61,   2,  43,\n",
       "        20,  23,   2, 205, 141, 242,  35,  97, 223, 166, 193,  46, 161,\n",
       "        65, 237, 107, 197, 252, 240,  26, 232,  70, 230, 238, 111, 153,\n",
       "        62, 248,  34, 122, 204, 143, 241, 232,  72, 167,  60, 163, 206,\n",
       "       112, 109, 182, 170, 193, 102, 120, 104, 185])"
      ]
     },
     "execution_count": 17,
     "metadata": {},
     "output_type": "execute_result"
    }
   ],
   "source": [
    "valores"
   ]
  },
  {
   "cell_type": "code",
   "execution_count": 22,
   "metadata": {},
   "outputs": [
    {
     "data": {
      "text/plain": [
       "array([[  9., 232.],\n",
       "       [  3.,  96.],\n",
       "       [  8., 202.],\n",
       "       [  2.,  67.],\n",
       "       [  9., 252.],\n",
       "       [  5., 139.],\n",
       "       [  5., 135.],\n",
       "       [  1.,  41.],\n",
       "       [  1.,  49.],\n",
       "       [  5., 145.],\n",
       "       [  5., 146.],\n",
       "       [  8., 219.],\n",
       "       [  7., 189.],\n",
       "       [  8., 219.],\n",
       "       [  9., 238.],\n",
       "       [  3.,  86.],\n",
       "       [  8., 201.],\n",
       "       [  7., 183.],\n",
       "       [  2.,  51.],\n",
       "       [  4., 120.],\n",
       "       [  2.,  63.],\n",
       "       [  0.,  24.],\n",
       "       [  5., 141.],\n",
       "       [  7., 195.],\n",
       "       [  8., 222.],\n",
       "       [  1.,  42.],\n",
       "       [  0.,  17.],\n",
       "       [  5., 138.],\n",
       "       [  1.,  26.],\n",
       "       [  9., 252.],\n",
       "       [  6., 162.],\n",
       "       [  3.,  94.],\n",
       "       [  3.,  76.],\n",
       "       [  0.,  17.],\n",
       "       [  8., 218.],\n",
       "       [  4., 115.],\n",
       "       [  5., 147.],\n",
       "       [  3.,  93.],\n",
       "       [  6., 158.],\n",
       "       [  4., 119.],\n",
       "       [  3.,  98.],\n",
       "       [  3.,  80.],\n",
       "       [  2.,  70.],\n",
       "       [  3.,  80.],\n",
       "       [  1.,  42.],\n",
       "       [  3.,  82.],\n",
       "       [  5., 140.],\n",
       "       [  6., 157.],\n",
       "       [  7., 177.],\n",
       "       [  2.,  61.],\n",
       "       [  0.,   2.],\n",
       "       [  1.,  43.],\n",
       "       [  0.,  20.],\n",
       "       [  0.,  23.],\n",
       "       [  0.,   2.],\n",
       "       [  8., 205.],\n",
       "       [  5., 141.],\n",
       "       [  9., 242.],\n",
       "       [  1.,  35.],\n",
       "       [  3.,  97.],\n",
       "       [  8., 223.],\n",
       "       [  6., 166.],\n",
       "       [  7., 193.],\n",
       "       [  1.,  46.],\n",
       "       [  6., 161.],\n",
       "       [  2.,  65.],\n",
       "       [  9., 237.],\n",
       "       [  4., 107.],\n",
       "       [  7., 197.],\n",
       "       [  9., 252.],\n",
       "       [  9., 240.],\n",
       "       [  1.,  26.],\n",
       "       [  9., 232.],\n",
       "       [  2.,  70.],\n",
       "       [  9., 230.],\n",
       "       [  9., 238.],\n",
       "       [  4., 111.],\n",
       "       [  6., 153.],\n",
       "       [  2.,  62.],\n",
       "       [  9., 248.],\n",
       "       [  1.,  34.],\n",
       "       [  4., 122.],\n",
       "       [  8., 204.],\n",
       "       [  5., 143.],\n",
       "       [  9., 241.],\n",
       "       [  9., 232.],\n",
       "       [  2.,  72.],\n",
       "       [  6., 167.],\n",
       "       [  2.,  60.],\n",
       "       [  6., 163.],\n",
       "       [  8., 206.],\n",
       "       [  4., 112.],\n",
       "       [  4., 109.],\n",
       "       [  7., 182.],\n",
       "       [  6., 170.],\n",
       "       [  7., 193.],\n",
       "       [  4., 102.],\n",
       "       [  4., 120.],\n",
       "       [  4., 104.],\n",
       "       [  7., 185.]])"
      ]
     },
     "execution_count": 22,
     "metadata": {},
     "output_type": "execute_result"
    }
   ],
   "source": [
    "matrix = np.zeros((100,2))\n",
    "matrix[:,1] = valores\n",
    "\n",
    "\n",
    "for x in range(matrix.shape[0]):\n",
    "    k = matrix[x,1]\n",
    "    tag = 9\n",
    "    \n",
    "    if k<225:\n",
    "        tag=8\n",
    "    if k<200:\n",
    "        tag=7\n",
    "    if k<175:\n",
    "        tag=6\n",
    "    if k<150:\n",
    "        tag=5\n",
    "    if k<125:\n",
    "        tag=4\n",
    "    if k<100:\n",
    "        tag=3\n",
    "    if k<75:\n",
    "        tag=2\n",
    "    if k<50:\n",
    "        tag=1\n",
    "    if k<25:\n",
    "        tag=0\n",
    "    #le asigno su tag correspondiente\n",
    "    matrix[x,0] = tag\n",
    "matrix\n",
    "        \n",
    "\n"
   ]
  },
  {
   "cell_type": "code",
   "execution_count": 21,
   "metadata": {},
   "outputs": [],
   "source": [
    "import csv"
   ]
  },
  {
   "cell_type": "code",
   "execution_count": 24,
   "metadata": {},
   "outputs": [],
   "source": [
    "with open('test1.csv', 'w', newline='') as file:\n",
    "    writer = csv.writer(file)\n",
    "    writer.writerow([\"label\", \"pixel0\"])\n",
    "    for r in range(matrix.shape[0]):\n",
    "        writer.writerow( [matrix[r,0], matrix[r,1] ])  "
   ]
  },
  {
   "cell_type": "code",
   "execution_count": null,
   "metadata": {},
   "outputs": [],
   "source": []
  }
 ],
 "metadata": {
  "kernelspec": {
   "display_name": "Python 3",
   "language": "python",
   "name": "python3"
  },
  "language_info": {
   "codemirror_mode": {
    "name": "ipython",
    "version": 3
   },
   "file_extension": ".py",
   "mimetype": "text/x-python",
   "name": "python",
   "nbconvert_exporter": "python",
   "pygments_lexer": "ipython3",
   "version": "3.7.4"
  }
 },
 "nbformat": 4,
 "nbformat_minor": 2
}
